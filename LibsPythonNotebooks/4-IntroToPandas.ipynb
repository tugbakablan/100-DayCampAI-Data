{
 "cells": [
  {
   "cell_type": "code",
   "execution_count": 1,
   "id": "23d1ec8c-a21d-42a4-8d58-5965122143f9",
   "metadata": {},
   "outputs": [],
   "source": [
    "import numpy as np\n",
    "import pandas as pd"
   ]
  },
  {
   "cell_type": "code",
   "execution_count": 2,
   "id": "af91d4f5-f4ea-4a8b-9d25-daeda74a11fb",
   "metadata": {},
   "outputs": [],
   "source": [
    "grades = {\"Atil\" : 50, \"James\" : 60, \"Lars\" : 30}"
   ]
  },
  {
   "cell_type": "code",
   "execution_count": 3,
   "id": "2ff32a67-6dc8-4072-9886-246df48cc766",
   "metadata": {},
   "outputs": [
    {
     "data": {
      "text/plain": [
       "Atil     50\n",
       "James    60\n",
       "Lars     30\n",
       "dtype: int64"
      ]
     },
     "execution_count": 3,
     "metadata": {},
     "output_type": "execute_result"
    }
   ],
   "source": [
    "pd.Series(grades)"
   ]
  },
  {
   "cell_type": "code",
   "execution_count": 4,
   "id": "a1692e7c-c1a7-43d4-9244-fcd1c3100900",
   "metadata": {},
   "outputs": [],
   "source": [
    "names = [\"Atil\", \"James\", \"Lars\"]\n",
    "grades = [50,60,30]"
   ]
  },
  {
   "cell_type": "code",
   "execution_count": 5,
   "id": "7e321ef4-9c4a-42b7-94ab-f6aaf4dabf45",
   "metadata": {},
   "outputs": [
    {
     "data": {
      "text/plain": [
       "0     Atil\n",
       "1    James\n",
       "2     Lars\n",
       "dtype: object"
      ]
     },
     "execution_count": 5,
     "metadata": {},
     "output_type": "execute_result"
    }
   ],
   "source": [
    "pd.Series(names)"
   ]
  },
  {
   "cell_type": "code",
   "execution_count": 6,
   "id": "2b205ae0-9a96-4159-86ae-792c5055dd58",
   "metadata": {},
   "outputs": [
    {
     "data": {
      "text/plain": [
       "0    50\n",
       "1    60\n",
       "2    30\n",
       "dtype: int64"
      ]
     },
     "execution_count": 6,
     "metadata": {},
     "output_type": "execute_result"
    }
   ],
   "source": [
    "pd.Series(grades)"
   ]
  },
  {
   "cell_type": "code",
   "execution_count": 8,
   "id": "7fed230e-a1dc-4107-bd5d-ad5fac6f9222",
   "metadata": {},
   "outputs": [
    {
     "data": {
      "text/plain": [
       "Atil     50\n",
       "James    60\n",
       "Lars     30\n",
       "dtype: int64"
      ]
     },
     "execution_count": 8,
     "metadata": {},
     "output_type": "execute_result"
    }
   ],
   "source": [
    "pd.Series(grades, names)"
   ]
  },
  {
   "cell_type": "code",
   "execution_count": 9,
   "id": "df5075ea-cb92-40f2-8b4f-26fdf0a5e59b",
   "metadata": {},
   "outputs": [
    {
     "data": {
      "text/plain": [
       "Atil     50\n",
       "James    60\n",
       "Lars     30\n",
       "dtype: int64"
      ]
     },
     "execution_count": 9,
     "metadata": {},
     "output_type": "execute_result"
    }
   ],
   "source": [
    "pd.Series(data=grades, index=names)"
   ]
  },
  {
   "cell_type": "code",
   "execution_count": 12,
   "id": "ac4c4496-e0dc-48d2-b43d-1272de5c4c55",
   "metadata": {},
   "outputs": [],
   "source": [
    "# with numpy"
   ]
  },
  {
   "cell_type": "code",
   "execution_count": 13,
   "id": "3815d62c-e2a1-4967-b16a-24253772f37e",
   "metadata": {},
   "outputs": [],
   "source": [
    "numpy_array = np.array([50,40,30,20])"
   ]
  },
  {
   "cell_type": "code",
   "execution_count": 14,
   "id": "75a32580-c465-4b56-89bc-bc14e67c4e33",
   "metadata": {},
   "outputs": [
    {
     "data": {
      "text/plain": [
       "0    50\n",
       "1    40\n",
       "2    30\n",
       "3    20\n",
       "dtype: int64"
      ]
     },
     "execution_count": 14,
     "metadata": {},
     "output_type": "execute_result"
    }
   ],
   "source": [
    "pd.Series(numpy_array)"
   ]
  },
  {
   "cell_type": "code",
   "execution_count": 15,
   "id": "637e26d3-384e-4dc9-92e6-4789faf19737",
   "metadata": {},
   "outputs": [],
   "source": [
    "#arithmetic"
   ]
  },
  {
   "cell_type": "code",
   "execution_count": 16,
   "id": "fb84603e-bbbe-4616-b4f6-6c3c910201ac",
   "metadata": {},
   "outputs": [],
   "source": [
    "contest_result = pd.Series([10,5,100],[\"Atil\",\"James\",\"Lars\"])"
   ]
  },
  {
   "cell_type": "code",
   "execution_count": 17,
   "id": "8e0a72d5-05b4-40ca-8b8c-b7bf071dbbcf",
   "metadata": {},
   "outputs": [],
   "source": [
    "contest_result2 = pd.Series([20,50,10],[\"Atil\",\"James\",\"Lars\"])"
   ]
  },
  {
   "cell_type": "code",
   "execution_count": 18,
   "id": "b23585b5-3bcf-4660-8d20-62df036e057b",
   "metadata": {},
   "outputs": [
    {
     "data": {
      "text/plain": [
       "10"
      ]
     },
     "execution_count": 18,
     "metadata": {},
     "output_type": "execute_result"
    }
   ],
   "source": [
    "contest_result[\"Atil\"]"
   ]
  },
  {
   "cell_type": "code",
   "execution_count": 20,
   "id": "a71c3814-c119-4d44-b4b8-f1dce7772844",
   "metadata": {},
   "outputs": [
    {
     "data": {
      "text/plain": [
       "50"
      ]
     },
     "execution_count": 20,
     "metadata": {},
     "output_type": "execute_result"
    }
   ],
   "source": [
    "contest_result2[\"James\"]"
   ]
  },
  {
   "cell_type": "code",
   "execution_count": 21,
   "id": "1c0fcf04-3499-482f-80f3-73c208ec0b7b",
   "metadata": {},
   "outputs": [],
   "source": [
    "final_result = contest_result + contest_result2"
   ]
  },
  {
   "cell_type": "code",
   "execution_count": 22,
   "id": "58435907-ea8e-4006-ac86-dde519e69995",
   "metadata": {},
   "outputs": [
    {
     "data": {
      "text/plain": [
       "Atil      30\n",
       "James     55\n",
       "Lars     110\n",
       "dtype: int64"
      ]
     },
     "execution_count": 22,
     "metadata": {},
     "output_type": "execute_result"
    }
   ],
   "source": [
    "final_result"
   ]
  },
  {
   "cell_type": "code",
   "execution_count": 28,
   "id": "51b27973-0dd6-4538-9d57-76b968ec1d42",
   "metadata": {},
   "outputs": [
    {
     "data": {
      "text/plain": [
       "Atil      200\n",
       "James     250\n",
       "Lars     1000\n",
       "dtype: int64"
      ]
     },
     "execution_count": 28,
     "metadata": {},
     "output_type": "execute_result"
    }
   ],
   "source": [
    "contest_result * contest_result2"
   ]
  },
  {
   "cell_type": "code",
   "execution_count": 29,
   "id": "196dd510-5972-4326-ba45-4ff5c52ded15",
   "metadata": {},
   "outputs": [
    {
     "data": {
      "text/plain": [
       "Atil    -10\n",
       "James   -45\n",
       "Lars     90\n",
       "dtype: int64"
      ]
     },
     "execution_count": 29,
     "metadata": {},
     "output_type": "execute_result"
    }
   ],
   "source": [
    "contest_result - contest_result2"
   ]
  },
  {
   "cell_type": "code",
   "execution_count": 30,
   "id": "250259b1-01e7-4939-b220-2b1a20bc8358",
   "metadata": {},
   "outputs": [
    {
     "data": {
      "text/plain": [
       "Atil      0.5\n",
       "James     0.1\n",
       "Lars     10.0\n",
       "dtype: float64"
      ]
     },
     "execution_count": 30,
     "metadata": {},
     "output_type": "execute_result"
    }
   ],
   "source": [
    "contest_result / contest_result2"
   ]
  },
  {
   "cell_type": "code",
   "execution_count": 31,
   "id": "1f08ec1e-e86b-44c4-8cf4-3d825fa2f798",
   "metadata": {},
   "outputs": [],
   "source": [
    "# if indices are different"
   ]
  },
  {
   "cell_type": "code",
   "execution_count": 32,
   "id": "ae2dc7ac-49e0-4ee6-b332-45cc26c9a63c",
   "metadata": {},
   "outputs": [],
   "source": [
    "different_series = pd.Series([20,30,40,50],[\"a\",\"b\",\"c\",\"d\"])"
   ]
  },
  {
   "cell_type": "code",
   "execution_count": 33,
   "id": "0f28aed8-e468-4d77-bf28-27c5c25a47f4",
   "metadata": {},
   "outputs": [],
   "source": [
    "different_series_2 = pd.Series([10,5,3,1],[\"a\",\"c\",\"f\",\"g\"])"
   ]
  },
  {
   "cell_type": "code",
   "execution_count": 34,
   "id": "0fbe6585-8637-4cc5-acc8-e670ce193cb9",
   "metadata": {},
   "outputs": [
    {
     "data": {
      "text/plain": [
       "a    30.0\n",
       "b     NaN\n",
       "c    45.0\n",
       "d     NaN\n",
       "f     NaN\n",
       "g     NaN\n",
       "dtype: float64"
      ]
     },
     "execution_count": 34,
     "metadata": {},
     "output_type": "execute_result"
    }
   ],
   "source": [
    "different_series + different_series_2"
   ]
  },
  {
   "cell_type": "code",
   "execution_count": null,
   "id": "d1e61ce6-7028-447b-9687-a3616f3aebdd",
   "metadata": {},
   "outputs": [],
   "source": []
  },
  {
   "cell_type": "code",
   "execution_count": null,
   "id": "1e6a8522-9530-4366-aa1c-7891c72c187f",
   "metadata": {},
   "outputs": [],
   "source": []
  }
 ],
 "metadata": {
  "kernelspec": {
   "display_name": "Python 3 (ipykernel)",
   "language": "python",
   "name": "python3"
  },
  "language_info": {
   "codemirror_mode": {
    "name": "ipython",
    "version": 3
   },
   "file_extension": ".py",
   "mimetype": "text/x-python",
   "name": "python",
   "nbconvert_exporter": "python",
   "pygments_lexer": "ipython3",
   "version": "3.12.7"
  }
 },
 "nbformat": 4,
 "nbformat_minor": 5
}
