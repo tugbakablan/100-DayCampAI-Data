{
 "cells": [
  {
   "cell_type": "code",
   "execution_count": 1,
   "id": "72f6ebd3-aa54-4af5-b500-01d0763f6325",
   "metadata": {},
   "outputs": [],
   "source": [
    "import numpy as np"
   ]
  },
  {
   "cell_type": "code",
   "execution_count": 7,
   "id": "954bbbad-343b-4292-84c1-bc2bf84646cc",
   "metadata": {},
   "outputs": [],
   "source": [
    "my_matrix = [[5,10],[15,20]]"
   ]
  },
  {
   "cell_type": "code",
   "execution_count": 8,
   "id": "c5ce2b9d-1fed-423d-81a5-4b14a3d0c78c",
   "metadata": {},
   "outputs": [
    {
     "data": {
      "text/plain": [
       "[5, 10]"
      ]
     },
     "execution_count": 8,
     "metadata": {},
     "output_type": "execute_result"
    }
   ],
   "source": [
    "my_matrix[0]"
   ]
  },
  {
   "cell_type": "code",
   "execution_count": 9,
   "id": "950601d3-cbad-4ed5-9cda-450e16f0ced3",
   "metadata": {},
   "outputs": [
    {
     "data": {
      "text/plain": [
       "[15, 20]"
      ]
     },
     "execution_count": 9,
     "metadata": {},
     "output_type": "execute_result"
    }
   ],
   "source": [
    "my_matrix[1]"
   ]
  },
  {
   "cell_type": "code",
   "execution_count": 12,
   "id": "6159f2ac-8a24-4d03-b925-d4019db1c551",
   "metadata": {},
   "outputs": [],
   "source": [
    "#my_matrix.sum()"
   ]
  },
  {
   "cell_type": "code",
   "execution_count": 10,
   "id": "7bdd8805-da83-44cf-9585-8c5751810b98",
   "metadata": {},
   "outputs": [],
   "source": [
    "numpy_matrix = np.array([[5,10],[15,20]])"
   ]
  },
  {
   "cell_type": "code",
   "execution_count": 13,
   "id": "122650fc-f8bc-49ef-a028-aaa76d4f0365",
   "metadata": {},
   "outputs": [
    {
     "data": {
      "text/plain": [
       "50"
      ]
     },
     "execution_count": 13,
     "metadata": {},
     "output_type": "execute_result"
    }
   ],
   "source": [
    "numpy_matrix.sum()"
   ]
  },
  {
   "cell_type": "code",
   "execution_count": 20,
   "id": "5cac9c72-f3ee-4fef-9f25-aafce4dffc35",
   "metadata": {},
   "outputs": [],
   "source": [
    "# row x column"
   ]
  },
  {
   "cell_type": "code",
   "execution_count": 21,
   "id": "f6609207-a1e5-4b34-8f55-8a82a628d052",
   "metadata": {},
   "outputs": [
    {
     "data": {
      "text/plain": [
       "array([[1., 1.],\n",
       "       [1., 1.],\n",
       "       [1., 1.],\n",
       "       [1., 1.]])"
      ]
     },
     "execution_count": 21,
     "metadata": {},
     "output_type": "execute_result"
    }
   ],
   "source": [
    "np.ones((4,2))"
   ]
  },
  {
   "cell_type": "code",
   "execution_count": 22,
   "id": "aee3b6df-1975-47cd-b591-faa33008fedf",
   "metadata": {},
   "outputs": [
    {
     "data": {
      "text/plain": [
       "array([[0., 0., 0.],\n",
       "       [0., 0., 0.],\n",
       "       [0., 0., 0.],\n",
       "       [0., 0., 0.],\n",
       "       [0., 0., 0.]])"
      ]
     },
     "execution_count": 22,
     "metadata": {},
     "output_type": "execute_result"
    }
   ],
   "source": [
    "np.zeros((5,3))"
   ]
  },
  {
   "cell_type": "code",
   "execution_count": 23,
   "id": "7363c000-e3b8-4bd5-9707-2c503371062e",
   "metadata": {},
   "outputs": [
    {
     "data": {
      "text/plain": [
       "array([[0.16776112, 0.00703872],\n",
       "       [0.00533717, 0.89356651],\n",
       "       [0.11160896, 0.6911002 ]])"
      ]
     },
     "execution_count": 23,
     "metadata": {},
     "output_type": "execute_result"
    }
   ],
   "source": [
    "np.random.random((3,2))"
   ]
  },
  {
   "cell_type": "code",
   "execution_count": 24,
   "id": "cc49bbe3-a8af-42b2-8805-a3500bf8f941",
   "metadata": {},
   "outputs": [],
   "source": [
    "# matrix arithmetic "
   ]
  },
  {
   "cell_type": "code",
   "execution_count": 25,
   "id": "19cc3b60-84d3-4545-8d21-34fe71fe6879",
   "metadata": {},
   "outputs": [],
   "source": [
    "first_array = np.array([[10,20],[30,40]])"
   ]
  },
  {
   "cell_type": "code",
   "execution_count": 26,
   "id": "771b116e-9e59-481d-8864-582578be9e84",
   "metadata": {},
   "outputs": [],
   "source": [
    "second_array = np.array([[5,15],[25,35]])"
   ]
  },
  {
   "cell_type": "code",
   "execution_count": 27,
   "id": "72be3206-0a4c-4809-9481-6a1910087c5c",
   "metadata": {},
   "outputs": [
    {
     "data": {
      "text/plain": [
       "array([[15, 35],\n",
       "       [55, 75]])"
      ]
     },
     "execution_count": 27,
     "metadata": {},
     "output_type": "execute_result"
    }
   ],
   "source": [
    "first_array + second_array"
   ]
  },
  {
   "cell_type": "code",
   "execution_count": 28,
   "id": "62b64bd9-a3bd-4cc2-be1f-935476760d7c",
   "metadata": {},
   "outputs": [
    {
     "data": {
      "text/plain": [
       "array([[20, 40],\n",
       "       [60, 80]])"
      ]
     },
     "execution_count": 28,
     "metadata": {},
     "output_type": "execute_result"
    }
   ],
   "source": [
    "first_array * 2"
   ]
  },
  {
   "cell_type": "code",
   "execution_count": 29,
   "id": "5db28430-a4c7-4f2b-a49a-37f6e379dac1",
   "metadata": {},
   "outputs": [
    {
     "data": {
      "text/plain": [
       "array([[ 2.5,  5. ],\n",
       "       [ 7.5, 10. ]])"
      ]
     },
     "execution_count": 29,
     "metadata": {},
     "output_type": "execute_result"
    }
   ],
   "source": [
    "first_array / 4"
   ]
  },
  {
   "cell_type": "code",
   "execution_count": 30,
   "id": "1179266b-7e27-432c-a654-1a6561673e5e",
   "metadata": {},
   "outputs": [],
   "source": [
    "# We can add and multiply matrices using arithmetic operators (+-*/) if the two matrices are the same size."
   ]
  },
  {
   "cell_type": "code",
   "execution_count": 31,
   "id": "1d87b8cc-6e70-4be7-ae60-86a1767cedea",
   "metadata": {},
   "outputs": [],
   "source": [
    "third_array = np.array([[10],[20]])"
   ]
  },
  {
   "cell_type": "code",
   "execution_count": 32,
   "id": "f687de5e-aef8-4cc0-ad37-828efd0dfb66",
   "metadata": {},
   "outputs": [
    {
     "data": {
      "text/plain": [
       "array([[10],\n",
       "       [20]])"
      ]
     },
     "execution_count": 32,
     "metadata": {},
     "output_type": "execute_result"
    }
   ],
   "source": [
    "third_array"
   ]
  },
  {
   "cell_type": "code",
   "execution_count": 34,
   "id": "d24223ca-2633-4ac1-b1a8-69445fb2cf2c",
   "metadata": {},
   "outputs": [
    {
     "data": {
      "text/plain": [
       "(2, 1)"
      ]
     },
     "execution_count": 34,
     "metadata": {},
     "output_type": "execute_result"
    }
   ],
   "source": [
    "third_array.shape"
   ]
  },
  {
   "cell_type": "code",
   "execution_count": 35,
   "id": "c5bc1e6f-24f9-44f8-953d-b82f37dac569",
   "metadata": {},
   "outputs": [
    {
     "data": {
      "text/plain": [
       "(2, 2)"
      ]
     },
     "execution_count": 35,
     "metadata": {},
     "output_type": "execute_result"
    }
   ],
   "source": [
    "first_array.shape"
   ]
  },
  {
   "cell_type": "code",
   "execution_count": 39,
   "id": "1f633a46-e0a8-4862-b4e3-7d89ef4b6ccb",
   "metadata": {},
   "outputs": [
    {
     "data": {
      "text/plain": [
       "array([[10, 20],\n",
       "       [30, 40]])"
      ]
     },
     "execution_count": 39,
     "metadata": {},
     "output_type": "execute_result"
    }
   ],
   "source": [
    "first_array"
   ]
  },
  {
   "cell_type": "code",
   "execution_count": 36,
   "id": "206689b4-63c1-44e5-ae36-52ae81ab72a7",
   "metadata": {},
   "outputs": [
    {
     "data": {
      "text/plain": [
       "array([[20, 30],\n",
       "       [50, 60]])"
      ]
     },
     "execution_count": 36,
     "metadata": {},
     "output_type": "execute_result"
    }
   ],
   "source": [
    "first_array + third_array"
   ]
  },
  {
   "cell_type": "code",
   "execution_count": 38,
   "id": "99ad1db3-fb96-48a5-9768-4f3a7a3cc007",
   "metadata": {},
   "outputs": [],
   "source": [
    "# We do these arithmetic operations on matrices of different size only if the different dimension is one \n",
    "#in which case NumPy uses its broadcast rules for that operation:"
   ]
  },
  {
   "cell_type": "code",
   "execution_count": 40,
   "id": "2454ca51-f2b0-4d03-96f2-a29c5edbabdd",
   "metadata": {},
   "outputs": [],
   "source": [
    "fourth_array = np.ones((3,4))"
   ]
  },
  {
   "cell_type": "code",
   "execution_count": 41,
   "id": "1d906d74-8433-403c-8124-edd33d66a861",
   "metadata": {},
   "outputs": [
    {
     "data": {
      "text/plain": [
       "array([[1., 1., 1., 1.],\n",
       "       [1., 1., 1., 1.],\n",
       "       [1., 1., 1., 1.]])"
      ]
     },
     "execution_count": 41,
     "metadata": {},
     "output_type": "execute_result"
    }
   ],
   "source": [
    "fourth_array"
   ]
  },
  {
   "cell_type": "code",
   "execution_count": 43,
   "id": "cb738a02-12cb-4a72-9d24-071d93fb4953",
   "metadata": {},
   "outputs": [],
   "source": [
    "#fourth_array + first_array"
   ]
  },
  {
   "cell_type": "code",
   "execution_count": 44,
   "id": "5ce99420-058e-42e4-9902-c476cc1b2187",
   "metadata": {},
   "outputs": [],
   "source": [
    "# matrix multiplication"
   ]
  },
  {
   "cell_type": "code",
   "execution_count": 45,
   "id": "69ba681c-383f-4edc-a426-9bd6b33b1ad4",
   "metadata": {},
   "outputs": [],
   "source": [
    "first_matrix = np.array([[10,20,30]])"
   ]
  },
  {
   "cell_type": "code",
   "execution_count": 46,
   "id": "f3bb87c5-c15e-4442-9039-b3bb9c5d8281",
   "metadata": {},
   "outputs": [
    {
     "data": {
      "text/plain": [
       "array([[10, 20, 30]])"
      ]
     },
     "execution_count": 46,
     "metadata": {},
     "output_type": "execute_result"
    }
   ],
   "source": [
    "first_matrix"
   ]
  },
  {
   "cell_type": "code",
   "execution_count": 48,
   "id": "a72ba3ee-fa2b-4994-963b-f7ee7f7bd98e",
   "metadata": {},
   "outputs": [],
   "source": [
    "second_matrix = np.array([[2,3],[2,3],[2,3]])"
   ]
  },
  {
   "cell_type": "code",
   "execution_count": 49,
   "id": "27bdfcc0-422e-44a1-86b2-02eae12bddf0",
   "metadata": {},
   "outputs": [
    {
     "data": {
      "text/plain": [
       "array([[2, 3],\n",
       "       [2, 3],\n",
       "       [2, 3]])"
      ]
     },
     "execution_count": 49,
     "metadata": {},
     "output_type": "execute_result"
    }
   ],
   "source": [
    "second_matrix"
   ]
  },
  {
   "cell_type": "code",
   "execution_count": 50,
   "id": "a2da66f7-9f6f-41e8-9a9f-9369097e1eae",
   "metadata": {},
   "outputs": [
    {
     "data": {
      "text/plain": [
       "(1, 3)"
      ]
     },
     "execution_count": 50,
     "metadata": {},
     "output_type": "execute_result"
    }
   ],
   "source": [
    "first_matrix.shape"
   ]
  },
  {
   "cell_type": "code",
   "execution_count": 51,
   "id": "e2f0f5b3-44c9-4215-b168-0ecffacbbbdd",
   "metadata": {},
   "outputs": [
    {
     "data": {
      "text/plain": [
       "(3, 2)"
      ]
     },
     "execution_count": 51,
     "metadata": {},
     "output_type": "execute_result"
    }
   ],
   "source": [
    "second_matrix.shape"
   ]
  },
  {
   "cell_type": "code",
   "execution_count": 53,
   "id": "ec0e77f1-6a73-48fc-9319-8f4632210cbc",
   "metadata": {},
   "outputs": [],
   "source": [
    "#first_matrix * second_matrix"
   ]
  },
  {
   "cell_type": "code",
   "execution_count": 55,
   "id": "b4bc56b7-4306-4faf-8e9d-1c10635d707b",
   "metadata": {},
   "outputs": [],
   "source": [
    "result_matrix = first_matrix.dot(second_matrix)"
   ]
  },
  {
   "cell_type": "code",
   "execution_count": 56,
   "id": "2acd6119-f2fb-4e6c-a665-545e4081a259",
   "metadata": {},
   "outputs": [
    {
     "data": {
      "text/plain": [
       "array([[120, 180]])"
      ]
     },
     "execution_count": 56,
     "metadata": {},
     "output_type": "execute_result"
    }
   ],
   "source": [
    "result_matrix"
   ]
  },
  {
   "cell_type": "code",
   "execution_count": 57,
   "id": "669d4ef7-c56c-48bc-b1d4-754e2a8071ac",
   "metadata": {},
   "outputs": [
    {
     "data": {
      "text/plain": [
       "(1, 2)"
      ]
     },
     "execution_count": 57,
     "metadata": {},
     "output_type": "execute_result"
    }
   ],
   "source": [
    "result_matrix.shape"
   ]
  },
  {
   "cell_type": "code",
   "execution_count": null,
   "id": "cd818bc9-1470-40c4-b4d9-c9ba2d07279c",
   "metadata": {},
   "outputs": [],
   "source": []
  }
 ],
 "metadata": {
  "kernelspec": {
   "display_name": "Python 3 (ipykernel)",
   "language": "python",
   "name": "python3"
  },
  "language_info": {
   "codemirror_mode": {
    "name": "ipython",
    "version": 3
   },
   "file_extension": ".py",
   "mimetype": "text/x-python",
   "name": "python",
   "nbconvert_exporter": "python",
   "pygments_lexer": "ipython3",
   "version": "3.12.7"
  }
 },
 "nbformat": 4,
 "nbformat_minor": 5
}
