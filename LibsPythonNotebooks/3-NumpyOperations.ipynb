{
 "cells": [
  {
   "cell_type": "code",
   "execution_count": 1,
   "id": "437a0fe2-0f98-4934-bb29-38e5d7165254",
   "metadata": {},
   "outputs": [],
   "source": [
    "import numpy as np"
   ]
  },
  {
   "cell_type": "code",
   "execution_count": 2,
   "id": "e1deac09-18e9-4935-90b0-c91c7735bd9d",
   "metadata": {},
   "outputs": [],
   "source": [
    "new_array = np.random.randint(1,100,20)"
   ]
  },
  {
   "cell_type": "code",
   "execution_count": 3,
   "id": "472dbcc3-af2f-4dff-8769-0e3c145c4727",
   "metadata": {},
   "outputs": [
    {
     "data": {
      "text/plain": [
       "array([37, 64, 64, 69, 81, 36, 23, 62, 10, 95, 40, 83, 59, 76, 28, 19,  7,\n",
       "       81, 61, 47])"
      ]
     },
     "execution_count": 3,
     "metadata": {},
     "output_type": "execute_result"
    }
   ],
   "source": [
    "new_array"
   ]
  },
  {
   "cell_type": "code",
   "execution_count": 4,
   "id": "24dab151-b634-4ded-b23f-c38328eba437",
   "metadata": {},
   "outputs": [
    {
     "data": {
      "text/plain": [
       "array([ True,  True,  True,  True,  True,  True, False,  True, False,\n",
       "        True,  True,  True,  True,  True,  True, False, False,  True,\n",
       "        True,  True])"
      ]
     },
     "execution_count": 4,
     "metadata": {},
     "output_type": "execute_result"
    }
   ],
   "source": [
    "new_array > 25"
   ]
  },
  {
   "cell_type": "code",
   "execution_count": 5,
   "id": "312ad7b2-b85c-44b7-aadd-e921dbadc105",
   "metadata": {},
   "outputs": [
    {
     "data": {
      "text/plain": [
       "array([37, 64, 64, 69, 81, 36, 62, 95, 40, 83, 59, 76, 28, 81, 61, 47])"
      ]
     },
     "execution_count": 5,
     "metadata": {},
     "output_type": "execute_result"
    }
   ],
   "source": [
    "new_array[new_array > 25]"
   ]
  },
  {
   "cell_type": "code",
   "execution_count": 6,
   "id": "15e8535a-5ec9-4591-a815-dff5e5984a39",
   "metadata": {},
   "outputs": [],
   "source": [
    "#transpose & reshape"
   ]
  },
  {
   "cell_type": "code",
   "execution_count": 7,
   "id": "3ab27706-fdc1-4872-b0b2-4f06d60667fb",
   "metadata": {},
   "outputs": [],
   "source": [
    "matrix_array = np.array([[10,20],[20,30],[30,40]])"
   ]
  },
  {
   "cell_type": "code",
   "execution_count": 8,
   "id": "086bf92a-1e69-408f-8254-79247608801c",
   "metadata": {},
   "outputs": [
    {
     "data": {
      "text/plain": [
       "array([[10, 20],\n",
       "       [20, 30],\n",
       "       [30, 40]])"
      ]
     },
     "execution_count": 8,
     "metadata": {},
     "output_type": "execute_result"
    }
   ],
   "source": [
    "matrix_array"
   ]
  },
  {
   "cell_type": "code",
   "execution_count": 9,
   "id": "43d1afcd-7433-4136-ae52-32465301311b",
   "metadata": {},
   "outputs": [
    {
     "data": {
      "text/plain": [
       "array([[10, 20, 30],\n",
       "       [20, 30, 40]])"
      ]
     },
     "execution_count": 9,
     "metadata": {},
     "output_type": "execute_result"
    }
   ],
   "source": [
    "matrix_array.transpose()"
   ]
  },
  {
   "cell_type": "code",
   "execution_count": 10,
   "id": "02538ca8-983f-4c62-b789-5f5402203d08",
   "metadata": {},
   "outputs": [
    {
     "data": {
      "text/plain": [
       "array([[10, 20, 30],\n",
       "       [20, 30, 40]])"
      ]
     },
     "execution_count": 10,
     "metadata": {},
     "output_type": "execute_result"
    }
   ],
   "source": [
    "matrix_array.T"
   ]
  },
  {
   "cell_type": "code",
   "execution_count": 11,
   "id": "f5765d0e-743f-44eb-b561-e9f7786eaa28",
   "metadata": {},
   "outputs": [],
   "source": [
    "random_array = np.random.random((6,1))"
   ]
  },
  {
   "cell_type": "code",
   "execution_count": 12,
   "id": "8a3a534f-a4ae-412f-9ac0-f1373e8c495e",
   "metadata": {},
   "outputs": [
    {
     "data": {
      "text/plain": [
       "array([[0.24590505],\n",
       "       [0.82413243],\n",
       "       [0.57636962],\n",
       "       [0.03514044],\n",
       "       [0.87443472],\n",
       "       [0.97933209]])"
      ]
     },
     "execution_count": 12,
     "metadata": {},
     "output_type": "execute_result"
    }
   ],
   "source": [
    "random_array"
   ]
  },
  {
   "cell_type": "code",
   "execution_count": 13,
   "id": "d77eb2ad-00ea-4ed8-864b-acc8cebdd873",
   "metadata": {},
   "outputs": [
    {
     "data": {
      "text/plain": [
       "array([[0.24590505, 0.82413243, 0.57636962],\n",
       "       [0.03514044, 0.87443472, 0.97933209]])"
      ]
     },
     "execution_count": 13,
     "metadata": {},
     "output_type": "execute_result"
    }
   ],
   "source": [
    "random_array.reshape(2,3)"
   ]
  },
  {
   "cell_type": "code",
   "execution_count": 14,
   "id": "4632a7c3-3dee-48c6-9bcc-c040d2a5ca06",
   "metadata": {},
   "outputs": [
    {
     "data": {
      "text/plain": [
       "array([[0.24590505, 0.82413243],\n",
       "       [0.57636962, 0.03514044],\n",
       "       [0.87443472, 0.97933209]])"
      ]
     },
     "execution_count": 14,
     "metadata": {},
     "output_type": "execute_result"
    }
   ],
   "source": [
    "random_array.reshape(3,2)"
   ]
  },
  {
   "cell_type": "code",
   "execution_count": 15,
   "id": "804bec25-7d21-4316-b09b-8ea10facd0b5",
   "metadata": {},
   "outputs": [],
   "source": [
    "# real life cases"
   ]
  },
  {
   "cell_type": "code",
   "execution_count": 16,
   "id": "fe86536a-d9a8-4232-b4f1-c2e114ee7473",
   "metadata": {},
   "outputs": [],
   "source": [
    "data = np.array([10, 12, 13, 15, 18, 25, 100, 105])"
   ]
  },
  {
   "cell_type": "code",
   "execution_count": 17,
   "id": "11db04e7-7468-4b6d-b334-39aa2b25b16e",
   "metadata": {},
   "outputs": [],
   "source": [
    "# Compute Z-scores\n",
    "mean = np.mean(data)"
   ]
  },
  {
   "cell_type": "code",
   "execution_count": 33,
   "id": "dc22ef31-9fbf-4d09-894a-a65ac72173e1",
   "metadata": {},
   "outputs": [
    {
     "data": {
      "text/plain": [
       "37.25"
      ]
     },
     "execution_count": 33,
     "metadata": {},
     "output_type": "execute_result"
    }
   ],
   "source": [
    "mean"
   ]
  },
  {
   "cell_type": "code",
   "execution_count": 18,
   "id": "5d881ccf-38ef-4ae1-8668-782f97e84718",
   "metadata": {},
   "outputs": [],
   "source": [
    "std = np.std(data)"
   ]
  },
  {
   "cell_type": "code",
   "execution_count": 34,
   "id": "574be2c0-da02-4c85-8bcf-65894540611a",
   "metadata": {},
   "outputs": [
    {
     "data": {
      "text/plain": [
       "37.9333296719389"
      ]
     },
     "execution_count": 34,
     "metadata": {},
     "output_type": "execute_result"
    }
   ],
   "source": [
    "std"
   ]
  },
  {
   "cell_type": "code",
   "execution_count": 19,
   "id": "ecdec468-346f-4383-8ccb-526aa4a6a0cf",
   "metadata": {},
   "outputs": [],
   "source": [
    "z_scores = (data - mean) / std"
   ]
  },
  {
   "cell_type": "code",
   "execution_count": 20,
   "id": "8a3f41f4-4353-4f42-97ba-9551524caa26",
   "metadata": {},
   "outputs": [
    {
     "data": {
      "text/plain": [
       "array([-0.71836562, -0.66564154, -0.6392795 , -0.58655542, -0.50746929,\n",
       "       -0.322935  ,  1.65421809,  1.78602829])"
      ]
     },
     "execution_count": 20,
     "metadata": {},
     "output_type": "execute_result"
    }
   ],
   "source": [
    "z_scores"
   ]
  },
  {
   "cell_type": "code",
   "execution_count": 27,
   "id": "104fa3fb-1f3a-4c86-8295-58ed55437a19",
   "metadata": {},
   "outputs": [
    {
     "data": {
      "text/plain": [
       "array([False, False, False, False, False, False,  True,  True])"
      ]
     },
     "execution_count": 27,
     "metadata": {},
     "output_type": "execute_result"
    }
   ],
   "source": [
    "np.abs(z_scores) > 1"
   ]
  },
  {
   "cell_type": "code",
   "execution_count": 31,
   "id": "b313bd09-9756-477d-b31f-f0789a0ffa02",
   "metadata": {},
   "outputs": [],
   "source": [
    "outliers = data[np.abs(z_scores) > 1]"
   ]
  },
  {
   "cell_type": "code",
   "execution_count": 32,
   "id": "9382f411-a1af-4832-8773-6d40cf825c1d",
   "metadata": {},
   "outputs": [
    {
     "data": {
      "text/plain": [
       "array([100, 105])"
      ]
     },
     "execution_count": 32,
     "metadata": {},
     "output_type": "execute_result"
    }
   ],
   "source": [
    "outliers"
   ]
  },
  {
   "cell_type": "code",
   "execution_count": 35,
   "id": "d29b964f-e793-476f-8769-d3682fb1f722",
   "metadata": {},
   "outputs": [],
   "source": [
    "# math equations"
   ]
  },
  {
   "cell_type": "code",
   "execution_count": 36,
   "id": "85dde08e-5413-4f15-90b1-2288aed891f0",
   "metadata": {},
   "outputs": [],
   "source": [
    "# Solve 2x + 3y = 8 and 5x + 7y = 19"
   ]
  },
  {
   "cell_type": "code",
   "execution_count": 37,
   "id": "9273c982-8e1f-431b-9483-d180845a611b",
   "metadata": {},
   "outputs": [],
   "source": [
    "# Coefficients matrix\n",
    "A = np.array([[2, 3], [5, 7]])"
   ]
  },
  {
   "cell_type": "code",
   "execution_count": 38,
   "id": "9ab5dfce-3da3-47c1-b2c8-33534b8ca273",
   "metadata": {},
   "outputs": [],
   "source": [
    "# Constants matrix\n",
    "b = np.array([8, 19])"
   ]
  },
  {
   "cell_type": "code",
   "execution_count": 39,
   "id": "cd363c3a-f124-48dd-ba10-01884419b0c1",
   "metadata": {},
   "outputs": [],
   "source": [
    "# Solve for x and y\n",
    "solution = np.linalg.solve(A, b)"
   ]
  },
  {
   "cell_type": "code",
   "execution_count": 40,
   "id": "5df130f7-c9cb-4386-8c0c-0bc49a298cfc",
   "metadata": {},
   "outputs": [
    {
     "data": {
      "text/plain": [
       "array([1., 2.])"
      ]
     },
     "execution_count": 40,
     "metadata": {},
     "output_type": "execute_result"
    }
   ],
   "source": [
    "solution"
   ]
  },
  {
   "cell_type": "code",
   "execution_count": 41,
   "id": "3009a2b7-24b3-453d-b826-474fc5325fbe",
   "metadata": {},
   "outputs": [],
   "source": [
    "# data analysis"
   ]
  },
  {
   "cell_type": "code",
   "execution_count": 42,
   "id": "3256f315-c092-4513-a216-1b9de7e0d277",
   "metadata": {},
   "outputs": [],
   "source": [
    "# Stock prices over 5 days\n",
    "prices = np.array([100, 102, 105, 107, 110])"
   ]
  },
  {
   "cell_type": "code",
   "execution_count": 48,
   "id": "c20fbdc5-ab57-40ba-a956-73c54102c3c1",
   "metadata": {},
   "outputs": [
    {
     "data": {
      "text/plain": [
       "array([2, 3, 2, 3])"
      ]
     },
     "execution_count": 48,
     "metadata": {},
     "output_type": "execute_result"
    }
   ],
   "source": [
    "np.diff(prices)"
   ]
  },
  {
   "cell_type": "code",
   "execution_count": 51,
   "id": "d4c4ab0f-cc36-45a4-ae5c-ca7995b18d2a",
   "metadata": {},
   "outputs": [
    {
     "data": {
      "text/plain": [
       "array([100, 102, 105, 107])"
      ]
     },
     "execution_count": 51,
     "metadata": {},
     "output_type": "execute_result"
    }
   ],
   "source": [
    "prices[:len(prices)-1:]"
   ]
  },
  {
   "cell_type": "code",
   "execution_count": 52,
   "id": "19d00e9e-d786-4796-be84-de6cf5dd99c2",
   "metadata": {},
   "outputs": [
    {
     "data": {
      "text/plain": [
       "array([100, 102, 105, 107])"
      ]
     },
     "execution_count": 52,
     "metadata": {},
     "output_type": "execute_result"
    }
   ],
   "source": [
    "prices[:-1:]"
   ]
  },
  {
   "cell_type": "code",
   "execution_count": 53,
   "id": "1b28d184-4bc4-4a56-81d4-a85d0e0a8930",
   "metadata": {},
   "outputs": [
    {
     "data": {
      "text/plain": [
       "array([0.02      , 0.02941176, 0.01904762, 0.02803738])"
      ]
     },
     "execution_count": 53,
     "metadata": {},
     "output_type": "execute_result"
    }
   ],
   "source": [
    "np.diff(prices) / prices[:-1]"
   ]
  },
  {
   "cell_type": "code",
   "execution_count": 54,
   "id": "07d1d026-8960-4338-b46d-8c1d43eaed81",
   "metadata": {},
   "outputs": [],
   "source": [
    "returns = np.diff(prices) / prices[:-1] * 100"
   ]
  },
  {
   "cell_type": "code",
   "execution_count": 55,
   "id": "d4cf197f-0f40-46cb-a992-3a82b4a91d58",
   "metadata": {},
   "outputs": [
    {
     "data": {
      "text/plain": [
       "array([2.        , 2.94117647, 1.9047619 , 2.80373832])"
      ]
     },
     "execution_count": 55,
     "metadata": {},
     "output_type": "execute_result"
    }
   ],
   "source": [
    "returns"
   ]
  },
  {
   "cell_type": "code",
   "execution_count": null,
   "id": "19720d75-517e-4bb1-8fb5-15538cade503",
   "metadata": {},
   "outputs": [],
   "source": []
  }
 ],
 "metadata": {
  "kernelspec": {
   "display_name": "Python 3 (ipykernel)",
   "language": "python",
   "name": "python3"
  },
  "language_info": {
   "codemirror_mode": {
    "name": "ipython",
    "version": 3
   },
   "file_extension": ".py",
   "mimetype": "text/x-python",
   "name": "python",
   "nbconvert_exporter": "python",
   "pygments_lexer": "ipython3",
   "version": "3.12.7"
  }
 },
 "nbformat": 4,
 "nbformat_minor": 5
}
