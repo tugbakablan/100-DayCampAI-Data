{
 "cells": [
  {
   "cell_type": "code",
   "execution_count": 1,
   "id": "1fb57f0e-09e4-4d94-8f0e-8309e1a87a03",
   "metadata": {},
   "outputs": [],
   "source": [
    "import numpy as np"
   ]
  },
  {
   "cell_type": "code",
   "execution_count": 2,
   "id": "0d49ad03-441c-4029-8f66-f7df7229e30d",
   "metadata": {},
   "outputs": [],
   "source": [
    "# !pip install numpy"
   ]
  },
  {
   "cell_type": "code",
   "execution_count": 3,
   "id": "26d84fa4-cbb6-4918-8578-1a53254d5a42",
   "metadata": {},
   "outputs": [],
   "source": [
    "my_list = [10,20,30,40]"
   ]
  },
  {
   "cell_type": "code",
   "execution_count": 4,
   "id": "0259ed6a-0ada-4fbd-bd28-24d5a9de56f9",
   "metadata": {},
   "outputs": [
    {
     "data": {
      "text/plain": [
       "list"
      ]
     },
     "execution_count": 4,
     "metadata": {},
     "output_type": "execute_result"
    }
   ],
   "source": [
    "type(my_list)"
   ]
  },
  {
   "cell_type": "code",
   "execution_count": 5,
   "id": "c2203e96-654d-4ef7-99a6-7da8898d821c",
   "metadata": {},
   "outputs": [
    {
     "data": {
      "text/plain": [
       "array([10, 20, 30, 40])"
      ]
     },
     "execution_count": 5,
     "metadata": {},
     "output_type": "execute_result"
    }
   ],
   "source": [
    "np.array(my_list)"
   ]
  },
  {
   "cell_type": "code",
   "execution_count": 7,
   "id": "da2872d8-9302-46da-b3e4-3985b54e3f38",
   "metadata": {},
   "outputs": [],
   "source": [
    "my_numpy_array = np.array([10,20,30,40,50])"
   ]
  },
  {
   "cell_type": "code",
   "execution_count": 8,
   "id": "5ccd584b-4de3-4559-b483-ff1ee1163a6e",
   "metadata": {},
   "outputs": [
    {
     "data": {
      "text/plain": [
       "numpy.ndarray"
      ]
     },
     "execution_count": 8,
     "metadata": {},
     "output_type": "execute_result"
    }
   ],
   "source": [
    "type(my_numpy_array)"
   ]
  },
  {
   "cell_type": "code",
   "execution_count": 9,
   "id": "bf67ef44-7500-4ebc-bfa5-7ddd7fc50d45",
   "metadata": {},
   "outputs": [
    {
     "data": {
      "text/plain": [
       "50"
      ]
     },
     "execution_count": 9,
     "metadata": {},
     "output_type": "execute_result"
    }
   ],
   "source": [
    "my_numpy_array.max()"
   ]
  },
  {
   "cell_type": "code",
   "execution_count": 10,
   "id": "4ab51f52-414d-420c-86cc-1c9ea70927b4",
   "metadata": {},
   "outputs": [],
   "source": [
    "# https://jalammar.github.io/visual-numpy/"
   ]
  },
  {
   "cell_type": "code",
   "execution_count": 11,
   "id": "36a5ac42-ed4d-4e90-bc25-573eba461423",
   "metadata": {},
   "outputs": [
    {
     "data": {
      "text/plain": [
       "array([1., 1., 1., 1., 1.])"
      ]
     },
     "execution_count": 11,
     "metadata": {},
     "output_type": "execute_result"
    }
   ],
   "source": [
    "np.ones(5)"
   ]
  },
  {
   "cell_type": "code",
   "execution_count": 12,
   "id": "1d9da7af-82f9-45aa-9653-03d38878215b",
   "metadata": {},
   "outputs": [
    {
     "data": {
      "text/plain": [
       "array([0., 0., 0., 0., 0.])"
      ]
     },
     "execution_count": 12,
     "metadata": {},
     "output_type": "execute_result"
    }
   ],
   "source": [
    "np.zeros(5)"
   ]
  },
  {
   "cell_type": "code",
   "execution_count": 13,
   "id": "1282564c-1772-4e36-b7f6-93878ecd6338",
   "metadata": {},
   "outputs": [
    {
     "data": {
      "text/plain": [
       "array([0.92592341, 0.22830596, 0.30502652, 0.8765612 , 0.98434607])"
      ]
     },
     "execution_count": 13,
     "metadata": {},
     "output_type": "execute_result"
    }
   ],
   "source": [
    "np.random.random(5)"
   ]
  },
  {
   "cell_type": "code",
   "execution_count": 14,
   "id": "c14068c5-c994-4f88-b2f7-cebafcd29dda",
   "metadata": {},
   "outputs": [],
   "source": [
    "#array arithmetic "
   ]
  },
  {
   "cell_type": "code",
   "execution_count": 15,
   "id": "d49721cc-0826-4afb-9dd4-47b7544e6a35",
   "metadata": {},
   "outputs": [],
   "source": [
    "my_list1 = [1,2]"
   ]
  },
  {
   "cell_type": "code",
   "execution_count": 16,
   "id": "feb571da-8d3c-4bbc-9ec4-2031e861e5e9",
   "metadata": {},
   "outputs": [],
   "source": [
    "my_list2 = [2,3]"
   ]
  },
  {
   "cell_type": "code",
   "execution_count": 17,
   "id": "3d62e70c-a553-4ec6-9f2d-b34cd839abf4",
   "metadata": {},
   "outputs": [
    {
     "data": {
      "text/plain": [
       "[1, 2, 2, 3]"
      ]
     },
     "execution_count": 17,
     "metadata": {},
     "output_type": "execute_result"
    }
   ],
   "source": [
    "my_list1 + my_list2"
   ]
  },
  {
   "cell_type": "code",
   "execution_count": 18,
   "id": "80c32ce8-2b96-46c6-98a6-0e88b92d0cc5",
   "metadata": {},
   "outputs": [],
   "source": [
    "my_numpy_array1 = np.array(my_list1)"
   ]
  },
  {
   "cell_type": "code",
   "execution_count": 19,
   "id": "1adc383b-a188-47ad-9b76-7e250654f463",
   "metadata": {},
   "outputs": [],
   "source": [
    "my_numpy_array2 = np.array(my_list2)"
   ]
  },
  {
   "cell_type": "code",
   "execution_count": 20,
   "id": "62e29b38-b57c-45bb-aa11-c7125f5185e2",
   "metadata": {},
   "outputs": [
    {
     "data": {
      "text/plain": [
       "array([3, 5])"
      ]
     },
     "execution_count": 20,
     "metadata": {},
     "output_type": "execute_result"
    }
   ],
   "source": [
    "my_numpy_array1 + my_numpy_array2"
   ]
  },
  {
   "cell_type": "code",
   "execution_count": 21,
   "id": "a5bb5256-50c9-4543-9893-fc511cbdfd24",
   "metadata": {},
   "outputs": [
    {
     "data": {
      "text/plain": [
       "array([-1, -1])"
      ]
     },
     "execution_count": 21,
     "metadata": {},
     "output_type": "execute_result"
    }
   ],
   "source": [
    "my_numpy_array1 - my_numpy_array2"
   ]
  },
  {
   "cell_type": "code",
   "execution_count": 22,
   "id": "58eab283-49f5-4ad2-b70d-6421b7815aa2",
   "metadata": {},
   "outputs": [
    {
     "data": {
      "text/plain": [
       "array([2, 6])"
      ]
     },
     "execution_count": 22,
     "metadata": {},
     "output_type": "execute_result"
    }
   ],
   "source": [
    "my_numpy_array1 * my_numpy_array2"
   ]
  },
  {
   "cell_type": "code",
   "execution_count": 23,
   "id": "5d2893cc-c4b2-4526-9496-e2255bc3fd85",
   "metadata": {},
   "outputs": [
    {
     "data": {
      "text/plain": [
       "array([0.5       , 0.66666667])"
      ]
     },
     "execution_count": 23,
     "metadata": {},
     "output_type": "execute_result"
    }
   ],
   "source": [
    "my_numpy_array1 / my_numpy_array2"
   ]
  },
  {
   "cell_type": "code",
   "execution_count": 24,
   "id": "c87b0273-3a58-421b-aec3-4340b2c1b4f6",
   "metadata": {},
   "outputs": [
    {
     "data": {
      "text/plain": [
       "array([ 5, 10])"
      ]
     },
     "execution_count": 24,
     "metadata": {},
     "output_type": "execute_result"
    }
   ],
   "source": [
    "my_numpy_array1 * 5"
   ]
  },
  {
   "cell_type": "code",
   "execution_count": 36,
   "id": "ad8366a9-31c8-4a77-82ac-216d11beab90",
   "metadata": {},
   "outputs": [],
   "source": [
    "other_array = np.array([10,20,30,40,50])"
   ]
  },
  {
   "cell_type": "code",
   "execution_count": 39,
   "id": "c8ee65c3-e766-4a11-bb64-3be6186dfc9d",
   "metadata": {},
   "outputs": [
    {
     "data": {
      "text/plain": [
       "10"
      ]
     },
     "execution_count": 39,
     "metadata": {},
     "output_type": "execute_result"
    }
   ],
   "source": [
    "other_array.min()"
   ]
  },
  {
   "cell_type": "code",
   "execution_count": 38,
   "id": "eeffe892-315f-4dca-b65c-c8138a466ae3",
   "metadata": {},
   "outputs": [
    {
     "data": {
      "text/plain": [
       "150"
      ]
     },
     "execution_count": 38,
     "metadata": {},
     "output_type": "execute_result"
    }
   ],
   "source": [
    "other_array.sum()"
   ]
  },
  {
   "cell_type": "code",
   "execution_count": 26,
   "id": "9c0c51b0-ef15-43ee-afc5-e8835d0d3035",
   "metadata": {},
   "outputs": [],
   "source": [
    "#indexing & arange"
   ]
  },
  {
   "cell_type": "code",
   "execution_count": 26,
   "id": "c5c3fd4d-c92e-43ca-8783-739f27fd2f44",
   "metadata": {},
   "outputs": [],
   "source": [
    "#indexing & arange"
   ]
  },
  {
   "cell_type": "code",
   "execution_count": 27,
   "id": "ef6d052d-c978-4315-9a79-ada784e4c88f",
   "metadata": {},
   "outputs": [
    {
     "data": {
      "text/plain": [
       "[0, 1, 2, 3, 4, 5, 6, 7, 8, 9]"
      ]
     },
     "execution_count": 27,
     "metadata": {},
     "output_type": "execute_result"
    }
   ],
   "source": [
    "list(range(0,10))"
   ]
  },
  {
   "cell_type": "code",
   "execution_count": 28,
   "id": "626bfbd7-bf3b-4726-aff0-c3a9695ff2a9",
   "metadata": {},
   "outputs": [
    {
     "data": {
      "text/plain": [
       "array([0, 1, 2, 3, 4, 5, 6, 7, 8, 9])"
      ]
     },
     "execution_count": 28,
     "metadata": {},
     "output_type": "execute_result"
    }
   ],
   "source": [
    "np.arange(0,10)"
   ]
  },
  {
   "cell_type": "code",
   "execution_count": 29,
   "id": "e53ca57a-f857-496e-a5e5-fc96bf150782",
   "metadata": {},
   "outputs": [
    {
     "data": {
      "text/plain": [
       "array([ 0,  2,  4,  6,  8, 10, 12, 14, 16, 18])"
      ]
     },
     "execution_count": 29,
     "metadata": {},
     "output_type": "execute_result"
    }
   ],
   "source": [
    "np.arange(0,20,2)"
   ]
  },
  {
   "cell_type": "code",
   "execution_count": 30,
   "id": "927f9dc2-82f0-4b43-aef7-110d0cd175d1",
   "metadata": {},
   "outputs": [],
   "source": [
    "np_array = np.arange(0,10)"
   ]
  },
  {
   "cell_type": "code",
   "execution_count": 31,
   "id": "fc8d78cf-aafa-4c6c-a4ba-f0aa61eb8013",
   "metadata": {},
   "outputs": [
    {
     "data": {
      "text/plain": [
       "0"
      ]
     },
     "execution_count": 31,
     "metadata": {},
     "output_type": "execute_result"
    }
   ],
   "source": [
    "np_array[0]"
   ]
  },
  {
   "cell_type": "code",
   "execution_count": 32,
   "id": "82641c03-30ac-4fbe-bb83-97a070874bbd",
   "metadata": {},
   "outputs": [
    {
     "data": {
      "text/plain": [
       "9"
      ]
     },
     "execution_count": 32,
     "metadata": {},
     "output_type": "execute_result"
    }
   ],
   "source": [
    "np_array[-1]"
   ]
  },
  {
   "cell_type": "code",
   "execution_count": 33,
   "id": "4471d6f3-e97c-41f0-878e-96297bc8f954",
   "metadata": {},
   "outputs": [
    {
     "data": {
      "text/plain": [
       "array([1, 2, 3])"
      ]
     },
     "execution_count": 33,
     "metadata": {},
     "output_type": "execute_result"
    }
   ],
   "source": [
    "np_array[1:4:]"
   ]
  },
  {
   "cell_type": "code",
   "execution_count": 34,
   "id": "e825564c-4794-4fa2-a36e-7febfc5c1e0b",
   "metadata": {},
   "outputs": [
    {
     "data": {
      "text/plain": [
       "array([9, 8, 7, 6, 5, 4, 3, 2, 1, 0])"
      ]
     },
     "execution_count": 34,
     "metadata": {},
     "output_type": "execute_result"
    }
   ],
   "source": [
    "np_array[::-1]"
   ]
  },
  {
   "cell_type": "code",
   "execution_count": 35,
   "id": "f365c8f6-3d33-42ba-b22b-7de141eb0fcd",
   "metadata": {},
   "outputs": [
    {
     "data": {
      "text/plain": [
       "array([2, 4])"
      ]
     },
     "execution_count": 35,
     "metadata": {},
     "output_type": "execute_result"
    }
   ],
   "source": [
    "np_array[2:6:2]"
   ]
  },
  {
   "cell_type": "code",
   "execution_count": 40,
   "id": "9b8a4c06-e364-4281-b1d8-5972ba54235f",
   "metadata": {},
   "outputs": [],
   "source": [
    "# random"
   ]
  },
  {
   "cell_type": "code",
   "execution_count": 41,
   "id": "c14f32bf-8f4e-48cf-b477-59972e009ffd",
   "metadata": {},
   "outputs": [
    {
     "data": {
      "text/plain": [
       "array([-1.01630674, -1.09829885,  0.70948785,  2.54035352])"
      ]
     },
     "execution_count": 41,
     "metadata": {},
     "output_type": "execute_result"
    }
   ],
   "source": [
    "np.random.randn(4)"
   ]
  },
  {
   "cell_type": "code",
   "execution_count": 42,
   "id": "765bda37-7d9f-4a5e-8a96-cbe295f3c17b",
   "metadata": {},
   "outputs": [
    {
     "data": {
      "text/plain": [
       "array([[-1.92619892,  0.6432985 ,  1.52906877, -0.45387039],\n",
       "       [ 1.09507191, -1.56907651, -0.0185524 ,  0.21799423],\n",
       "       [-0.8186812 , -1.12639982, -1.59773834,  0.36370991],\n",
       "       [ 0.71767334,  0.64516878, -0.37454103,  0.50293794]])"
      ]
     },
     "execution_count": 42,
     "metadata": {},
     "output_type": "execute_result"
    }
   ],
   "source": [
    "np.random.randn(4,4) #we will see matrices in details"
   ]
  },
  {
   "cell_type": "code",
   "execution_count": 43,
   "id": "78e2d329-f546-4370-9d5b-cc7421d78abd",
   "metadata": {},
   "outputs": [
    {
     "data": {
      "text/plain": [
       "array([ 89, 169, 249,  29, 161])"
      ]
     },
     "execution_count": 43,
     "metadata": {},
     "output_type": "execute_result"
    }
   ],
   "source": [
    "np.random.randint(1,300,5)"
   ]
  },
  {
   "cell_type": "code",
   "execution_count": null,
   "id": "ca004933-ae90-4d7b-9cf7-be50d4abfa1a",
   "metadata": {},
   "outputs": [],
   "source": []
  }
 ],
 "metadata": {
  "kernelspec": {
   "display_name": "Python 3 (ipykernel)",
   "language": "python",
   "name": "python3"
  },
  "language_info": {
   "codemirror_mode": {
    "name": "ipython",
    "version": 3
   },
   "file_extension": ".py",
   "mimetype": "text/x-python",
   "name": "python",
   "nbconvert_exporter": "python",
   "pygments_lexer": "ipython3",
   "version": "3.12.7"
  }
 },
 "nbformat": 4,
 "nbformat_minor": 5
}
