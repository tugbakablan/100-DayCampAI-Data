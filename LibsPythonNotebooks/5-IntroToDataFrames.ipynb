{
 "cells": [
  {
   "cell_type": "code",
   "execution_count": 1,
   "id": "fb4d27a5-0b89-48a5-8709-58c043eed003",
   "metadata": {},
   "outputs": [],
   "source": [
    "import pandas as pd"
   ]
  },
  {
   "cell_type": "code",
   "execution_count": 2,
   "id": "e4bf5df2-7b4b-43a6-8b7d-3a8d22338b68",
   "metadata": {},
   "outputs": [],
   "source": [
    "import numpy as np"
   ]
  },
  {
   "cell_type": "code",
   "execution_count": 4,
   "id": "ad99a045-88b7-48a1-a5f4-05250b69bcda",
   "metadata": {},
   "outputs": [],
   "source": [
    "data = np.random.randn(4,3)"
   ]
  },
  {
   "cell_type": "code",
   "execution_count": 5,
   "id": "2cebcf7a-eb73-45ca-a930-66844ebb4c85",
   "metadata": {},
   "outputs": [
    {
     "data": {
      "text/plain": [
       "array([[ 0.3004821 ,  0.16147545,  0.18858324],\n",
       "       [-0.33678892,  0.0432555 ,  0.91340869],\n",
       "       [ 0.27501465,  1.64987553, -0.30196493],\n",
       "       [ 0.47401973, -1.33659515,  1.79410449]])"
      ]
     },
     "execution_count": 5,
     "metadata": {},
     "output_type": "execute_result"
    }
   ],
   "source": [
    "data"
   ]
  },
  {
   "cell_type": "code",
   "execution_count": 6,
   "id": "3a982c95-4ab3-452a-b5f0-1079c631a196",
   "metadata": {},
   "outputs": [],
   "source": [
    "data_frame = pd.DataFrame(data)"
   ]
  },
  {
   "cell_type": "code",
   "execution_count": 7,
   "id": "c626d8ef-e786-456b-8a9e-2df6ad5ddd5a",
   "metadata": {},
   "outputs": [
    {
     "data": {
      "text/html": [
       "<div>\n",
       "<style scoped>\n",
       "    .dataframe tbody tr th:only-of-type {\n",
       "        vertical-align: middle;\n",
       "    }\n",
       "\n",
       "    .dataframe tbody tr th {\n",
       "        vertical-align: top;\n",
       "    }\n",
       "\n",
       "    .dataframe thead th {\n",
       "        text-align: right;\n",
       "    }\n",
       "</style>\n",
       "<table border=\"1\" class=\"dataframe\">\n",
       "  <thead>\n",
       "    <tr style=\"text-align: right;\">\n",
       "      <th></th>\n",
       "      <th>0</th>\n",
       "      <th>1</th>\n",
       "      <th>2</th>\n",
       "    </tr>\n",
       "  </thead>\n",
       "  <tbody>\n",
       "    <tr>\n",
       "      <th>0</th>\n",
       "      <td>0.300482</td>\n",
       "      <td>0.161475</td>\n",
       "      <td>0.188583</td>\n",
       "    </tr>\n",
       "    <tr>\n",
       "      <th>1</th>\n",
       "      <td>-0.336789</td>\n",
       "      <td>0.043255</td>\n",
       "      <td>0.913409</td>\n",
       "    </tr>\n",
       "    <tr>\n",
       "      <th>2</th>\n",
       "      <td>0.275015</td>\n",
       "      <td>1.649876</td>\n",
       "      <td>-0.301965</td>\n",
       "    </tr>\n",
       "    <tr>\n",
       "      <th>3</th>\n",
       "      <td>0.474020</td>\n",
       "      <td>-1.336595</td>\n",
       "      <td>1.794104</td>\n",
       "    </tr>\n",
       "  </tbody>\n",
       "</table>\n",
       "</div>"
      ],
      "text/plain": [
       "          0         1         2\n",
       "0  0.300482  0.161475  0.188583\n",
       "1 -0.336789  0.043255  0.913409\n",
       "2  0.275015  1.649876 -0.301965\n",
       "3  0.474020 -1.336595  1.794104"
      ]
     },
     "execution_count": 7,
     "metadata": {},
     "output_type": "execute_result"
    }
   ],
   "source": [
    "data_frame"
   ]
  },
  {
   "cell_type": "code",
   "execution_count": 8,
   "id": "7a6d22b0-2f1e-4f3e-81a5-3ad01abc8f11",
   "metadata": {},
   "outputs": [
    {
     "data": {
      "text/plain": [
       "pandas.core.frame.DataFrame"
      ]
     },
     "execution_count": 8,
     "metadata": {},
     "output_type": "execute_result"
    }
   ],
   "source": [
    "type(data_frame)"
   ]
  },
  {
   "cell_type": "code",
   "execution_count": 9,
   "id": "40edb828-6209-44f5-836f-26aeafee9b99",
   "metadata": {},
   "outputs": [
    {
     "data": {
      "text/plain": [
       "pandas.core.series.Series"
      ]
     },
     "execution_count": 9,
     "metadata": {},
     "output_type": "execute_result"
    }
   ],
   "source": [
    "type(data_frame[0])"
   ]
  },
  {
   "cell_type": "code",
   "execution_count": 10,
   "id": "ae7d6353-4dcf-4dad-938a-daf83726e537",
   "metadata": {},
   "outputs": [],
   "source": [
    "new_df = pd.DataFrame(data,index=[\"Atil\",\"Zeynep\",\"Atlas\",\"Mehmet\"],columns = [\"Salary\",\"Age\",\"Seniority\"])"
   ]
  },
  {
   "cell_type": "code",
   "execution_count": 11,
   "id": "469beed2-06c2-4dff-b3cc-76f7129d5ab3",
   "metadata": {},
   "outputs": [
    {
     "data": {
      "text/html": [
       "<div>\n",
       "<style scoped>\n",
       "    .dataframe tbody tr th:only-of-type {\n",
       "        vertical-align: middle;\n",
       "    }\n",
       "\n",
       "    .dataframe tbody tr th {\n",
       "        vertical-align: top;\n",
       "    }\n",
       "\n",
       "    .dataframe thead th {\n",
       "        text-align: right;\n",
       "    }\n",
       "</style>\n",
       "<table border=\"1\" class=\"dataframe\">\n",
       "  <thead>\n",
       "    <tr style=\"text-align: right;\">\n",
       "      <th></th>\n",
       "      <th>Salary</th>\n",
       "      <th>Age</th>\n",
       "      <th>Seniority</th>\n",
       "    </tr>\n",
       "  </thead>\n",
       "  <tbody>\n",
       "    <tr>\n",
       "      <th>Atil</th>\n",
       "      <td>0.300482</td>\n",
       "      <td>0.161475</td>\n",
       "      <td>0.188583</td>\n",
       "    </tr>\n",
       "    <tr>\n",
       "      <th>Zeynep</th>\n",
       "      <td>-0.336789</td>\n",
       "      <td>0.043255</td>\n",
       "      <td>0.913409</td>\n",
       "    </tr>\n",
       "    <tr>\n",
       "      <th>Atlas</th>\n",
       "      <td>0.275015</td>\n",
       "      <td>1.649876</td>\n",
       "      <td>-0.301965</td>\n",
       "    </tr>\n",
       "    <tr>\n",
       "      <th>Mehmet</th>\n",
       "      <td>0.474020</td>\n",
       "      <td>-1.336595</td>\n",
       "      <td>1.794104</td>\n",
       "    </tr>\n",
       "  </tbody>\n",
       "</table>\n",
       "</div>"
      ],
      "text/plain": [
       "          Salary       Age  Seniority\n",
       "Atil    0.300482  0.161475   0.188583\n",
       "Zeynep -0.336789  0.043255   0.913409\n",
       "Atlas   0.275015  1.649876  -0.301965\n",
       "Mehmet  0.474020 -1.336595   1.794104"
      ]
     },
     "execution_count": 11,
     "metadata": {},
     "output_type": "execute_result"
    }
   ],
   "source": [
    "new_df"
   ]
  },
  {
   "cell_type": "code",
   "execution_count": 12,
   "id": "2651f0ac-813f-46ce-b689-4f3512a67f7c",
   "metadata": {},
   "outputs": [
    {
     "data": {
      "text/plain": [
       "Atil      0.161475\n",
       "Zeynep    0.043255\n",
       "Atlas     1.649876\n",
       "Mehmet   -1.336595\n",
       "Name: Age, dtype: float64"
      ]
     },
     "execution_count": 12,
     "metadata": {},
     "output_type": "execute_result"
    }
   ],
   "source": [
    "new_df[\"Age\"]"
   ]
  },
  {
   "cell_type": "code",
   "execution_count": 13,
   "id": "ac07ca3d-7d94-4e49-a4d6-0e51f4db0eba",
   "metadata": {},
   "outputs": [
    {
     "data": {
      "text/plain": [
       "Atil      0.300482\n",
       "Zeynep   -0.336789\n",
       "Atlas     0.275015\n",
       "Mehmet    0.474020\n",
       "Name: Salary, dtype: float64"
      ]
     },
     "execution_count": 13,
     "metadata": {},
     "output_type": "execute_result"
    }
   ],
   "source": [
    "new_df[\"Salary\"]"
   ]
  },
  {
   "cell_type": "code",
   "execution_count": 14,
   "id": "12b66c00-3245-434d-ae2c-58ea8ef5b6ba",
   "metadata": {},
   "outputs": [
    {
     "data": {
      "text/html": [
       "<div>\n",
       "<style scoped>\n",
       "    .dataframe tbody tr th:only-of-type {\n",
       "        vertical-align: middle;\n",
       "    }\n",
       "\n",
       "    .dataframe tbody tr th {\n",
       "        vertical-align: top;\n",
       "    }\n",
       "\n",
       "    .dataframe thead th {\n",
       "        text-align: right;\n",
       "    }\n",
       "</style>\n",
       "<table border=\"1\" class=\"dataframe\">\n",
       "  <thead>\n",
       "    <tr style=\"text-align: right;\">\n",
       "      <th></th>\n",
       "      <th>Salary</th>\n",
       "      <th>Age</th>\n",
       "    </tr>\n",
       "  </thead>\n",
       "  <tbody>\n",
       "    <tr>\n",
       "      <th>Atil</th>\n",
       "      <td>0.300482</td>\n",
       "      <td>0.161475</td>\n",
       "    </tr>\n",
       "    <tr>\n",
       "      <th>Zeynep</th>\n",
       "      <td>-0.336789</td>\n",
       "      <td>0.043255</td>\n",
       "    </tr>\n",
       "    <tr>\n",
       "      <th>Atlas</th>\n",
       "      <td>0.275015</td>\n",
       "      <td>1.649876</td>\n",
       "    </tr>\n",
       "    <tr>\n",
       "      <th>Mehmet</th>\n",
       "      <td>0.474020</td>\n",
       "      <td>-1.336595</td>\n",
       "    </tr>\n",
       "  </tbody>\n",
       "</table>\n",
       "</div>"
      ],
      "text/plain": [
       "          Salary       Age\n",
       "Atil    0.300482  0.161475\n",
       "Zeynep -0.336789  0.043255\n",
       "Atlas   0.275015  1.649876\n",
       "Mehmet  0.474020 -1.336595"
      ]
     },
     "execution_count": 14,
     "metadata": {},
     "output_type": "execute_result"
    }
   ],
   "source": [
    "new_df[[\"Salary\",\"Age\"]]"
   ]
  },
  {
   "cell_type": "code",
   "execution_count": 16,
   "id": "8150b626-c434-4f51-9972-3a77779f7ceb",
   "metadata": {},
   "outputs": [
    {
     "data": {
      "text/plain": [
       "Salary       0.300482\n",
       "Age          0.161475\n",
       "Seniority    0.188583\n",
       "Name: Atil, dtype: float64"
      ]
     },
     "execution_count": 16,
     "metadata": {},
     "output_type": "execute_result"
    }
   ],
   "source": [
    "new_df.loc[\"Atil\"]"
   ]
  },
  {
   "cell_type": "code",
   "execution_count": 17,
   "id": "770fac31-a010-4609-b833-c73674a58ad7",
   "metadata": {},
   "outputs": [
    {
     "data": {
      "text/plain": [
       "Salary       0.300482\n",
       "Age          0.161475\n",
       "Seniority    0.188583\n",
       "Name: Atil, dtype: float64"
      ]
     },
     "execution_count": 17,
     "metadata": {},
     "output_type": "execute_result"
    }
   ],
   "source": [
    "new_df.iloc[0]"
   ]
  },
  {
   "cell_type": "code",
   "execution_count": 18,
   "id": "aff2262a-0c9a-46ef-ae3a-2981843fb2c3",
   "metadata": {},
   "outputs": [
    {
     "data": {
      "text/plain": [
       "Salary      -0.336789\n",
       "Age          0.043255\n",
       "Seniority    0.913409\n",
       "Name: Zeynep, dtype: float64"
      ]
     },
     "execution_count": 18,
     "metadata": {},
     "output_type": "execute_result"
    }
   ],
   "source": [
    "new_df.iloc[1]"
   ]
  },
  {
   "cell_type": "code",
   "execution_count": 19,
   "id": "d96971a1-59f7-48bf-a765-0ca2f3cd37e0",
   "metadata": {},
   "outputs": [
    {
     "data": {
      "text/html": [
       "<div>\n",
       "<style scoped>\n",
       "    .dataframe tbody tr th:only-of-type {\n",
       "        vertical-align: middle;\n",
       "    }\n",
       "\n",
       "    .dataframe tbody tr th {\n",
       "        vertical-align: top;\n",
       "    }\n",
       "\n",
       "    .dataframe thead th {\n",
       "        text-align: right;\n",
       "    }\n",
       "</style>\n",
       "<table border=\"1\" class=\"dataframe\">\n",
       "  <thead>\n",
       "    <tr style=\"text-align: right;\">\n",
       "      <th></th>\n",
       "      <th>Salary</th>\n",
       "      <th>Age</th>\n",
       "      <th>Seniority</th>\n",
       "    </tr>\n",
       "  </thead>\n",
       "  <tbody>\n",
       "    <tr>\n",
       "      <th>Atil</th>\n",
       "      <td>0.300482</td>\n",
       "      <td>0.161475</td>\n",
       "      <td>0.188583</td>\n",
       "    </tr>\n",
       "    <tr>\n",
       "      <th>Zeynep</th>\n",
       "      <td>-0.336789</td>\n",
       "      <td>0.043255</td>\n",
       "      <td>0.913409</td>\n",
       "    </tr>\n",
       "    <tr>\n",
       "      <th>Atlas</th>\n",
       "      <td>0.275015</td>\n",
       "      <td>1.649876</td>\n",
       "      <td>-0.301965</td>\n",
       "    </tr>\n",
       "    <tr>\n",
       "      <th>Mehmet</th>\n",
       "      <td>0.474020</td>\n",
       "      <td>-1.336595</td>\n",
       "      <td>1.794104</td>\n",
       "    </tr>\n",
       "  </tbody>\n",
       "</table>\n",
       "</div>"
      ],
      "text/plain": [
       "          Salary       Age  Seniority\n",
       "Atil    0.300482  0.161475   0.188583\n",
       "Zeynep -0.336789  0.043255   0.913409\n",
       "Atlas   0.275015  1.649876  -0.301965\n",
       "Mehmet  0.474020 -1.336595   1.794104"
      ]
     },
     "execution_count": 19,
     "metadata": {},
     "output_type": "execute_result"
    }
   ],
   "source": [
    "new_df"
   ]
  },
  {
   "cell_type": "code",
   "execution_count": 20,
   "id": "49ef5767-4cc4-4d1b-b484-aea1c7e3a850",
   "metadata": {},
   "outputs": [],
   "source": [
    "new_df[\"Extra\"] = 10"
   ]
  },
  {
   "cell_type": "code",
   "execution_count": 21,
   "id": "6b11f54d-5269-43dd-be52-88aa5700183f",
   "metadata": {},
   "outputs": [
    {
     "data": {
      "text/html": [
       "<div>\n",
       "<style scoped>\n",
       "    .dataframe tbody tr th:only-of-type {\n",
       "        vertical-align: middle;\n",
       "    }\n",
       "\n",
       "    .dataframe tbody tr th {\n",
       "        vertical-align: top;\n",
       "    }\n",
       "\n",
       "    .dataframe thead th {\n",
       "        text-align: right;\n",
       "    }\n",
       "</style>\n",
       "<table border=\"1\" class=\"dataframe\">\n",
       "  <thead>\n",
       "    <tr style=\"text-align: right;\">\n",
       "      <th></th>\n",
       "      <th>Salary</th>\n",
       "      <th>Age</th>\n",
       "      <th>Seniority</th>\n",
       "      <th>Extra</th>\n",
       "    </tr>\n",
       "  </thead>\n",
       "  <tbody>\n",
       "    <tr>\n",
       "      <th>Atil</th>\n",
       "      <td>0.300482</td>\n",
       "      <td>0.161475</td>\n",
       "      <td>0.188583</td>\n",
       "      <td>10</td>\n",
       "    </tr>\n",
       "    <tr>\n",
       "      <th>Zeynep</th>\n",
       "      <td>-0.336789</td>\n",
       "      <td>0.043255</td>\n",
       "      <td>0.913409</td>\n",
       "      <td>10</td>\n",
       "    </tr>\n",
       "    <tr>\n",
       "      <th>Atlas</th>\n",
       "      <td>0.275015</td>\n",
       "      <td>1.649876</td>\n",
       "      <td>-0.301965</td>\n",
       "      <td>10</td>\n",
       "    </tr>\n",
       "    <tr>\n",
       "      <th>Mehmet</th>\n",
       "      <td>0.474020</td>\n",
       "      <td>-1.336595</td>\n",
       "      <td>1.794104</td>\n",
       "      <td>10</td>\n",
       "    </tr>\n",
       "  </tbody>\n",
       "</table>\n",
       "</div>"
      ],
      "text/plain": [
       "          Salary       Age  Seniority  Extra\n",
       "Atil    0.300482  0.161475   0.188583     10\n",
       "Zeynep -0.336789  0.043255   0.913409     10\n",
       "Atlas   0.275015  1.649876  -0.301965     10\n",
       "Mehmet  0.474020 -1.336595   1.794104     10"
      ]
     },
     "execution_count": 21,
     "metadata": {},
     "output_type": "execute_result"
    }
   ],
   "source": [
    "new_df"
   ]
  },
  {
   "cell_type": "code",
   "execution_count": 22,
   "id": "c8a88b85-17b0-484d-8b35-7da0fdb8bcc4",
   "metadata": {},
   "outputs": [
    {
     "data": {
      "text/html": [
       "<div>\n",
       "<style scoped>\n",
       "    .dataframe tbody tr th:only-of-type {\n",
       "        vertical-align: middle;\n",
       "    }\n",
       "\n",
       "    .dataframe tbody tr th {\n",
       "        vertical-align: top;\n",
       "    }\n",
       "\n",
       "    .dataframe thead th {\n",
       "        text-align: right;\n",
       "    }\n",
       "</style>\n",
       "<table border=\"1\" class=\"dataframe\">\n",
       "  <thead>\n",
       "    <tr style=\"text-align: right;\">\n",
       "      <th></th>\n",
       "      <th>Salary</th>\n",
       "      <th>Age</th>\n",
       "      <th>Seniority</th>\n",
       "    </tr>\n",
       "  </thead>\n",
       "  <tbody>\n",
       "    <tr>\n",
       "      <th>Atil</th>\n",
       "      <td>0.300482</td>\n",
       "      <td>0.161475</td>\n",
       "      <td>0.188583</td>\n",
       "    </tr>\n",
       "    <tr>\n",
       "      <th>Zeynep</th>\n",
       "      <td>-0.336789</td>\n",
       "      <td>0.043255</td>\n",
       "      <td>0.913409</td>\n",
       "    </tr>\n",
       "    <tr>\n",
       "      <th>Atlas</th>\n",
       "      <td>0.275015</td>\n",
       "      <td>1.649876</td>\n",
       "      <td>-0.301965</td>\n",
       "    </tr>\n",
       "    <tr>\n",
       "      <th>Mehmet</th>\n",
       "      <td>0.474020</td>\n",
       "      <td>-1.336595</td>\n",
       "      <td>1.794104</td>\n",
       "    </tr>\n",
       "  </tbody>\n",
       "</table>\n",
       "</div>"
      ],
      "text/plain": [
       "          Salary       Age  Seniority\n",
       "Atil    0.300482  0.161475   0.188583\n",
       "Zeynep -0.336789  0.043255   0.913409\n",
       "Atlas   0.275015  1.649876  -0.301965\n",
       "Mehmet  0.474020 -1.336595   1.794104"
      ]
     },
     "execution_count": 22,
     "metadata": {},
     "output_type": "execute_result"
    }
   ],
   "source": [
    "new_df.drop(\"Extra\", axis = 1)"
   ]
  },
  {
   "cell_type": "code",
   "execution_count": 23,
   "id": "ef32c4df-d97e-458f-8a3d-ecad21971ba7",
   "metadata": {},
   "outputs": [
    {
     "data": {
      "text/html": [
       "<div>\n",
       "<style scoped>\n",
       "    .dataframe tbody tr th:only-of-type {\n",
       "        vertical-align: middle;\n",
       "    }\n",
       "\n",
       "    .dataframe tbody tr th {\n",
       "        vertical-align: top;\n",
       "    }\n",
       "\n",
       "    .dataframe thead th {\n",
       "        text-align: right;\n",
       "    }\n",
       "</style>\n",
       "<table border=\"1\" class=\"dataframe\">\n",
       "  <thead>\n",
       "    <tr style=\"text-align: right;\">\n",
       "      <th></th>\n",
       "      <th>Salary</th>\n",
       "      <th>Age</th>\n",
       "      <th>Seniority</th>\n",
       "      <th>Extra</th>\n",
       "    </tr>\n",
       "  </thead>\n",
       "  <tbody>\n",
       "    <tr>\n",
       "      <th>Atil</th>\n",
       "      <td>0.300482</td>\n",
       "      <td>0.161475</td>\n",
       "      <td>0.188583</td>\n",
       "      <td>10</td>\n",
       "    </tr>\n",
       "    <tr>\n",
       "      <th>Zeynep</th>\n",
       "      <td>-0.336789</td>\n",
       "      <td>0.043255</td>\n",
       "      <td>0.913409</td>\n",
       "      <td>10</td>\n",
       "    </tr>\n",
       "    <tr>\n",
       "      <th>Atlas</th>\n",
       "      <td>0.275015</td>\n",
       "      <td>1.649876</td>\n",
       "      <td>-0.301965</td>\n",
       "      <td>10</td>\n",
       "    </tr>\n",
       "    <tr>\n",
       "      <th>Mehmet</th>\n",
       "      <td>0.474020</td>\n",
       "      <td>-1.336595</td>\n",
       "      <td>1.794104</td>\n",
       "      <td>10</td>\n",
       "    </tr>\n",
       "  </tbody>\n",
       "</table>\n",
       "</div>"
      ],
      "text/plain": [
       "          Salary       Age  Seniority  Extra\n",
       "Atil    0.300482  0.161475   0.188583     10\n",
       "Zeynep -0.336789  0.043255   0.913409     10\n",
       "Atlas   0.275015  1.649876  -0.301965     10\n",
       "Mehmet  0.474020 -1.336595   1.794104     10"
      ]
     },
     "execution_count": 23,
     "metadata": {},
     "output_type": "execute_result"
    }
   ],
   "source": [
    "new_df"
   ]
  },
  {
   "cell_type": "code",
   "execution_count": 24,
   "id": "6a3d8308-03c4-4f07-80e0-2571bdbe2125",
   "metadata": {},
   "outputs": [],
   "source": [
    "new_df.drop(\"Extra\", axis=1, inplace=True)"
   ]
  },
  {
   "cell_type": "code",
   "execution_count": 25,
   "id": "8231f9ec-9fab-4c94-8105-83d3b29f2dc7",
   "metadata": {},
   "outputs": [
    {
     "data": {
      "text/html": [
       "<div>\n",
       "<style scoped>\n",
       "    .dataframe tbody tr th:only-of-type {\n",
       "        vertical-align: middle;\n",
       "    }\n",
       "\n",
       "    .dataframe tbody tr th {\n",
       "        vertical-align: top;\n",
       "    }\n",
       "\n",
       "    .dataframe thead th {\n",
       "        text-align: right;\n",
       "    }\n",
       "</style>\n",
       "<table border=\"1\" class=\"dataframe\">\n",
       "  <thead>\n",
       "    <tr style=\"text-align: right;\">\n",
       "      <th></th>\n",
       "      <th>Salary</th>\n",
       "      <th>Age</th>\n",
       "      <th>Seniority</th>\n",
       "    </tr>\n",
       "  </thead>\n",
       "  <tbody>\n",
       "    <tr>\n",
       "      <th>Atil</th>\n",
       "      <td>0.300482</td>\n",
       "      <td>0.161475</td>\n",
       "      <td>0.188583</td>\n",
       "    </tr>\n",
       "    <tr>\n",
       "      <th>Zeynep</th>\n",
       "      <td>-0.336789</td>\n",
       "      <td>0.043255</td>\n",
       "      <td>0.913409</td>\n",
       "    </tr>\n",
       "    <tr>\n",
       "      <th>Atlas</th>\n",
       "      <td>0.275015</td>\n",
       "      <td>1.649876</td>\n",
       "      <td>-0.301965</td>\n",
       "    </tr>\n",
       "    <tr>\n",
       "      <th>Mehmet</th>\n",
       "      <td>0.474020</td>\n",
       "      <td>-1.336595</td>\n",
       "      <td>1.794104</td>\n",
       "    </tr>\n",
       "  </tbody>\n",
       "</table>\n",
       "</div>"
      ],
      "text/plain": [
       "          Salary       Age  Seniority\n",
       "Atil    0.300482  0.161475   0.188583\n",
       "Zeynep -0.336789  0.043255   0.913409\n",
       "Atlas   0.275015  1.649876  -0.301965\n",
       "Mehmet  0.474020 -1.336595   1.794104"
      ]
     },
     "execution_count": 25,
     "metadata": {},
     "output_type": "execute_result"
    }
   ],
   "source": [
    "new_df"
   ]
  },
  {
   "cell_type": "code",
   "execution_count": 26,
   "id": "908e5ffd-55ed-48b3-ba93-ab7b85d56962",
   "metadata": {},
   "outputs": [
    {
     "data": {
      "text/html": [
       "<div>\n",
       "<style scoped>\n",
       "    .dataframe tbody tr th:only-of-type {\n",
       "        vertical-align: middle;\n",
       "    }\n",
       "\n",
       "    .dataframe tbody tr th {\n",
       "        vertical-align: top;\n",
       "    }\n",
       "\n",
       "    .dataframe thead th {\n",
       "        text-align: right;\n",
       "    }\n",
       "</style>\n",
       "<table border=\"1\" class=\"dataframe\">\n",
       "  <thead>\n",
       "    <tr style=\"text-align: right;\">\n",
       "      <th></th>\n",
       "      <th>Salary</th>\n",
       "      <th>Age</th>\n",
       "      <th>Seniority</th>\n",
       "    </tr>\n",
       "  </thead>\n",
       "  <tbody>\n",
       "    <tr>\n",
       "      <th>Atil</th>\n",
       "      <td>0.300482</td>\n",
       "      <td>0.161475</td>\n",
       "      <td>0.188583</td>\n",
       "    </tr>\n",
       "    <tr>\n",
       "      <th>Zeynep</th>\n",
       "      <td>-0.336789</td>\n",
       "      <td>0.043255</td>\n",
       "      <td>0.913409</td>\n",
       "    </tr>\n",
       "    <tr>\n",
       "      <th>Atlas</th>\n",
       "      <td>0.275015</td>\n",
       "      <td>1.649876</td>\n",
       "      <td>-0.301965</td>\n",
       "    </tr>\n",
       "  </tbody>\n",
       "</table>\n",
       "</div>"
      ],
      "text/plain": [
       "          Salary       Age  Seniority\n",
       "Atil    0.300482  0.161475   0.188583\n",
       "Zeynep -0.336789  0.043255   0.913409\n",
       "Atlas   0.275015  1.649876  -0.301965"
      ]
     },
     "execution_count": 26,
     "metadata": {},
     "output_type": "execute_result"
    }
   ],
   "source": [
    "new_df.drop(\"Mehmet\", axis=0)"
   ]
  },
  {
   "cell_type": "code",
   "execution_count": 27,
   "id": "2535f6b2-d9e7-49ef-838b-71fa8ce63367",
   "metadata": {},
   "outputs": [
    {
     "data": {
      "text/html": [
       "<div>\n",
       "<style scoped>\n",
       "    .dataframe tbody tr th:only-of-type {\n",
       "        vertical-align: middle;\n",
       "    }\n",
       "\n",
       "    .dataframe tbody tr th {\n",
       "        vertical-align: top;\n",
       "    }\n",
       "\n",
       "    .dataframe thead th {\n",
       "        text-align: right;\n",
       "    }\n",
       "</style>\n",
       "<table border=\"1\" class=\"dataframe\">\n",
       "  <thead>\n",
       "    <tr style=\"text-align: right;\">\n",
       "      <th></th>\n",
       "      <th>Salary</th>\n",
       "      <th>Age</th>\n",
       "      <th>Seniority</th>\n",
       "    </tr>\n",
       "  </thead>\n",
       "  <tbody>\n",
       "    <tr>\n",
       "      <th>Atil</th>\n",
       "      <td>0.300482</td>\n",
       "      <td>0.161475</td>\n",
       "      <td>0.188583</td>\n",
       "    </tr>\n",
       "    <tr>\n",
       "      <th>Zeynep</th>\n",
       "      <td>-0.336789</td>\n",
       "      <td>0.043255</td>\n",
       "      <td>0.913409</td>\n",
       "    </tr>\n",
       "    <tr>\n",
       "      <th>Atlas</th>\n",
       "      <td>0.275015</td>\n",
       "      <td>1.649876</td>\n",
       "      <td>-0.301965</td>\n",
       "    </tr>\n",
       "    <tr>\n",
       "      <th>Mehmet</th>\n",
       "      <td>0.474020</td>\n",
       "      <td>-1.336595</td>\n",
       "      <td>1.794104</td>\n",
       "    </tr>\n",
       "  </tbody>\n",
       "</table>\n",
       "</div>"
      ],
      "text/plain": [
       "          Salary       Age  Seniority\n",
       "Atil    0.300482  0.161475   0.188583\n",
       "Zeynep -0.336789  0.043255   0.913409\n",
       "Atlas   0.275015  1.649876  -0.301965\n",
       "Mehmet  0.474020 -1.336595   1.794104"
      ]
     },
     "execution_count": 27,
     "metadata": {},
     "output_type": "execute_result"
    }
   ],
   "source": [
    "new_df"
   ]
  },
  {
   "cell_type": "code",
   "execution_count": 28,
   "id": "70b2482d-fd9e-4f75-8621-fd4d8e06fb59",
   "metadata": {},
   "outputs": [
    {
     "data": {
      "text/plain": [
       "Salary       0.275015\n",
       "Age          1.649876\n",
       "Seniority   -0.301965\n",
       "Name: Atlas, dtype: float64"
      ]
     },
     "execution_count": 28,
     "metadata": {},
     "output_type": "execute_result"
    }
   ],
   "source": [
    "new_df.loc[\"Atlas\"]"
   ]
  },
  {
   "cell_type": "code",
   "execution_count": 29,
   "id": "7846d57c-c7a7-4199-a1f3-c48938896365",
   "metadata": {},
   "outputs": [
    {
     "data": {
      "text/plain": [
       "0.2750146502922042"
      ]
     },
     "execution_count": 29,
     "metadata": {},
     "output_type": "execute_result"
    }
   ],
   "source": [
    "new_df.loc[\"Atlas\"][\"Salary\"]"
   ]
  },
  {
   "cell_type": "code",
   "execution_count": 30,
   "id": "f379c5be-ca84-43a9-af87-874e7ba2b5a2",
   "metadata": {},
   "outputs": [
    {
     "data": {
      "text/plain": [
       "0.2750146502922042"
      ]
     },
     "execution_count": 30,
     "metadata": {},
     "output_type": "execute_result"
    }
   ],
   "source": [
    "new_df.loc[\"Atlas\",\"Salary\"]"
   ]
  },
  {
   "cell_type": "code",
   "execution_count": 31,
   "id": "e93d2e83-471c-4ad9-af11-cc407827b735",
   "metadata": {},
   "outputs": [
    {
     "data": {
      "text/html": [
       "<div>\n",
       "<style scoped>\n",
       "    .dataframe tbody tr th:only-of-type {\n",
       "        vertical-align: middle;\n",
       "    }\n",
       "\n",
       "    .dataframe tbody tr th {\n",
       "        vertical-align: top;\n",
       "    }\n",
       "\n",
       "    .dataframe thead th {\n",
       "        text-align: right;\n",
       "    }\n",
       "</style>\n",
       "<table border=\"1\" class=\"dataframe\">\n",
       "  <thead>\n",
       "    <tr style=\"text-align: right;\">\n",
       "      <th></th>\n",
       "      <th>Salary</th>\n",
       "      <th>Age</th>\n",
       "      <th>Seniority</th>\n",
       "    </tr>\n",
       "  </thead>\n",
       "  <tbody>\n",
       "    <tr>\n",
       "      <th>Atil</th>\n",
       "      <td>0.300482</td>\n",
       "      <td>0.161475</td>\n",
       "      <td>0.188583</td>\n",
       "    </tr>\n",
       "    <tr>\n",
       "      <th>Zeynep</th>\n",
       "      <td>-0.336789</td>\n",
       "      <td>0.043255</td>\n",
       "      <td>0.913409</td>\n",
       "    </tr>\n",
       "    <tr>\n",
       "      <th>Atlas</th>\n",
       "      <td>0.275015</td>\n",
       "      <td>1.649876</td>\n",
       "      <td>-0.301965</td>\n",
       "    </tr>\n",
       "    <tr>\n",
       "      <th>Mehmet</th>\n",
       "      <td>0.474020</td>\n",
       "      <td>-1.336595</td>\n",
       "      <td>1.794104</td>\n",
       "    </tr>\n",
       "  </tbody>\n",
       "</table>\n",
       "</div>"
      ],
      "text/plain": [
       "          Salary       Age  Seniority\n",
       "Atil    0.300482  0.161475   0.188583\n",
       "Zeynep -0.336789  0.043255   0.913409\n",
       "Atlas   0.275015  1.649876  -0.301965\n",
       "Mehmet  0.474020 -1.336595   1.794104"
      ]
     },
     "execution_count": 31,
     "metadata": {},
     "output_type": "execute_result"
    }
   ],
   "source": [
    "new_df"
   ]
  },
  {
   "cell_type": "code",
   "execution_count": 32,
   "id": "0c271a08-8024-432b-a5ff-2ccf2efb4b5e",
   "metadata": {},
   "outputs": [],
   "source": [
    "boolean_frame = new_df > 0"
   ]
  },
  {
   "cell_type": "code",
   "execution_count": 33,
   "id": "f8765d12-35ae-49f9-9dba-2d1fdb6e932f",
   "metadata": {},
   "outputs": [
    {
     "data": {
      "text/html": [
       "<div>\n",
       "<style scoped>\n",
       "    .dataframe tbody tr th:only-of-type {\n",
       "        vertical-align: middle;\n",
       "    }\n",
       "\n",
       "    .dataframe tbody tr th {\n",
       "        vertical-align: top;\n",
       "    }\n",
       "\n",
       "    .dataframe thead th {\n",
       "        text-align: right;\n",
       "    }\n",
       "</style>\n",
       "<table border=\"1\" class=\"dataframe\">\n",
       "  <thead>\n",
       "    <tr style=\"text-align: right;\">\n",
       "      <th></th>\n",
       "      <th>Salary</th>\n",
       "      <th>Age</th>\n",
       "      <th>Seniority</th>\n",
       "    </tr>\n",
       "  </thead>\n",
       "  <tbody>\n",
       "    <tr>\n",
       "      <th>Atil</th>\n",
       "      <td>True</td>\n",
       "      <td>True</td>\n",
       "      <td>True</td>\n",
       "    </tr>\n",
       "    <tr>\n",
       "      <th>Zeynep</th>\n",
       "      <td>False</td>\n",
       "      <td>True</td>\n",
       "      <td>True</td>\n",
       "    </tr>\n",
       "    <tr>\n",
       "      <th>Atlas</th>\n",
       "      <td>True</td>\n",
       "      <td>True</td>\n",
       "      <td>False</td>\n",
       "    </tr>\n",
       "    <tr>\n",
       "      <th>Mehmet</th>\n",
       "      <td>True</td>\n",
       "      <td>False</td>\n",
       "      <td>True</td>\n",
       "    </tr>\n",
       "  </tbody>\n",
       "</table>\n",
       "</div>"
      ],
      "text/plain": [
       "        Salary    Age  Seniority\n",
       "Atil      True   True       True\n",
       "Zeynep   False   True       True\n",
       "Atlas     True   True      False\n",
       "Mehmet    True  False       True"
      ]
     },
     "execution_count": 33,
     "metadata": {},
     "output_type": "execute_result"
    }
   ],
   "source": [
    "boolean_frame"
   ]
  },
  {
   "cell_type": "code",
   "execution_count": 34,
   "id": "c2587736-dbae-489d-8e4d-ed8adc820e6f",
   "metadata": {},
   "outputs": [
    {
     "data": {
      "text/html": [
       "<div>\n",
       "<style scoped>\n",
       "    .dataframe tbody tr th:only-of-type {\n",
       "        vertical-align: middle;\n",
       "    }\n",
       "\n",
       "    .dataframe tbody tr th {\n",
       "        vertical-align: top;\n",
       "    }\n",
       "\n",
       "    .dataframe thead th {\n",
       "        text-align: right;\n",
       "    }\n",
       "</style>\n",
       "<table border=\"1\" class=\"dataframe\">\n",
       "  <thead>\n",
       "    <tr style=\"text-align: right;\">\n",
       "      <th></th>\n",
       "      <th>Salary</th>\n",
       "      <th>Age</th>\n",
       "      <th>Seniority</th>\n",
       "    </tr>\n",
       "  </thead>\n",
       "  <tbody>\n",
       "    <tr>\n",
       "      <th>Atil</th>\n",
       "      <td>0.300482</td>\n",
       "      <td>0.161475</td>\n",
       "      <td>0.188583</td>\n",
       "    </tr>\n",
       "    <tr>\n",
       "      <th>Zeynep</th>\n",
       "      <td>NaN</td>\n",
       "      <td>0.043255</td>\n",
       "      <td>0.913409</td>\n",
       "    </tr>\n",
       "    <tr>\n",
       "      <th>Atlas</th>\n",
       "      <td>0.275015</td>\n",
       "      <td>1.649876</td>\n",
       "      <td>NaN</td>\n",
       "    </tr>\n",
       "    <tr>\n",
       "      <th>Mehmet</th>\n",
       "      <td>0.474020</td>\n",
       "      <td>NaN</td>\n",
       "      <td>1.794104</td>\n",
       "    </tr>\n",
       "  </tbody>\n",
       "</table>\n",
       "</div>"
      ],
      "text/plain": [
       "          Salary       Age  Seniority\n",
       "Atil    0.300482  0.161475   0.188583\n",
       "Zeynep       NaN  0.043255   0.913409\n",
       "Atlas   0.275015  1.649876        NaN\n",
       "Mehmet  0.474020       NaN   1.794104"
      ]
     },
     "execution_count": 34,
     "metadata": {},
     "output_type": "execute_result"
    }
   ],
   "source": [
    "new_df[boolean_frame]"
   ]
  },
  {
   "cell_type": "code",
   "execution_count": 35,
   "id": "33882312-56e3-46af-9570-243d9823c235",
   "metadata": {},
   "outputs": [
    {
     "data": {
      "text/html": [
       "<div>\n",
       "<style scoped>\n",
       "    .dataframe tbody tr th:only-of-type {\n",
       "        vertical-align: middle;\n",
       "    }\n",
       "\n",
       "    .dataframe tbody tr th {\n",
       "        vertical-align: top;\n",
       "    }\n",
       "\n",
       "    .dataframe thead th {\n",
       "        text-align: right;\n",
       "    }\n",
       "</style>\n",
       "<table border=\"1\" class=\"dataframe\">\n",
       "  <thead>\n",
       "    <tr style=\"text-align: right;\">\n",
       "      <th></th>\n",
       "      <th>Salary</th>\n",
       "      <th>Age</th>\n",
       "      <th>Seniority</th>\n",
       "    </tr>\n",
       "  </thead>\n",
       "  <tbody>\n",
       "    <tr>\n",
       "      <th>Atil</th>\n",
       "      <td>0.300482</td>\n",
       "      <td>0.161475</td>\n",
       "      <td>0.188583</td>\n",
       "    </tr>\n",
       "    <tr>\n",
       "      <th>Zeynep</th>\n",
       "      <td>NaN</td>\n",
       "      <td>0.043255</td>\n",
       "      <td>0.913409</td>\n",
       "    </tr>\n",
       "    <tr>\n",
       "      <th>Atlas</th>\n",
       "      <td>0.275015</td>\n",
       "      <td>1.649876</td>\n",
       "      <td>NaN</td>\n",
       "    </tr>\n",
       "    <tr>\n",
       "      <th>Mehmet</th>\n",
       "      <td>0.474020</td>\n",
       "      <td>NaN</td>\n",
       "      <td>1.794104</td>\n",
       "    </tr>\n",
       "  </tbody>\n",
       "</table>\n",
       "</div>"
      ],
      "text/plain": [
       "          Salary       Age  Seniority\n",
       "Atil    0.300482  0.161475   0.188583\n",
       "Zeynep       NaN  0.043255   0.913409\n",
       "Atlas   0.275015  1.649876        NaN\n",
       "Mehmet  0.474020       NaN   1.794104"
      ]
     },
     "execution_count": 35,
     "metadata": {},
     "output_type": "execute_result"
    }
   ],
   "source": [
    "new_df[new_df > 0]"
   ]
  },
  {
   "cell_type": "code",
   "execution_count": 36,
   "id": "a593066a-4f14-44cf-b523-d8ee16249eed",
   "metadata": {},
   "outputs": [
    {
     "data": {
      "text/html": [
       "<div>\n",
       "<style scoped>\n",
       "    .dataframe tbody tr th:only-of-type {\n",
       "        vertical-align: middle;\n",
       "    }\n",
       "\n",
       "    .dataframe tbody tr th {\n",
       "        vertical-align: top;\n",
       "    }\n",
       "\n",
       "    .dataframe thead th {\n",
       "        text-align: right;\n",
       "    }\n",
       "</style>\n",
       "<table border=\"1\" class=\"dataframe\">\n",
       "  <thead>\n",
       "    <tr style=\"text-align: right;\">\n",
       "      <th></th>\n",
       "      <th>Salary</th>\n",
       "      <th>Age</th>\n",
       "      <th>Seniority</th>\n",
       "    </tr>\n",
       "  </thead>\n",
       "  <tbody>\n",
       "    <tr>\n",
       "      <th>Atil</th>\n",
       "      <td>0.300482</td>\n",
       "      <td>0.161475</td>\n",
       "      <td>0.188583</td>\n",
       "    </tr>\n",
       "    <tr>\n",
       "      <th>Mehmet</th>\n",
       "      <td>0.474020</td>\n",
       "      <td>-1.336595</td>\n",
       "      <td>1.794104</td>\n",
       "    </tr>\n",
       "  </tbody>\n",
       "</table>\n",
       "</div>"
      ],
      "text/plain": [
       "          Salary       Age  Seniority\n",
       "Atil    0.300482  0.161475   0.188583\n",
       "Mehmet  0.474020 -1.336595   1.794104"
      ]
     },
     "execution_count": 36,
     "metadata": {},
     "output_type": "execute_result"
    }
   ],
   "source": [
    "new_df[new_df[\"Salary\"] > 0.3]"
   ]
  },
  {
   "cell_type": "code",
   "execution_count": 37,
   "id": "f3e7d662-dfb0-4926-9ae3-cd02b9f04770",
   "metadata": {},
   "outputs": [
    {
     "data": {
      "text/html": [
       "<div>\n",
       "<style scoped>\n",
       "    .dataframe tbody tr th:only-of-type {\n",
       "        vertical-align: middle;\n",
       "    }\n",
       "\n",
       "    .dataframe tbody tr th {\n",
       "        vertical-align: top;\n",
       "    }\n",
       "\n",
       "    .dataframe thead th {\n",
       "        text-align: right;\n",
       "    }\n",
       "</style>\n",
       "<table border=\"1\" class=\"dataframe\">\n",
       "  <thead>\n",
       "    <tr style=\"text-align: right;\">\n",
       "      <th></th>\n",
       "      <th>Salary</th>\n",
       "      <th>Age</th>\n",
       "      <th>Seniority</th>\n",
       "    </tr>\n",
       "  </thead>\n",
       "  <tbody>\n",
       "    <tr>\n",
       "      <th>Atlas</th>\n",
       "      <td>0.275015</td>\n",
       "      <td>1.649876</td>\n",
       "      <td>-0.301965</td>\n",
       "    </tr>\n",
       "  </tbody>\n",
       "</table>\n",
       "</div>"
      ],
      "text/plain": [
       "         Salary       Age  Seniority\n",
       "Atlas  0.275015  1.649876  -0.301965"
      ]
     },
     "execution_count": 37,
     "metadata": {},
     "output_type": "execute_result"
    }
   ],
   "source": [
    "new_df[new_df[\"Age\"] > 0.5]"
   ]
  },
  {
   "cell_type": "code",
   "execution_count": 38,
   "id": "9097f182-6c2b-4905-8e23-90efa65a671b",
   "metadata": {},
   "outputs": [
    {
     "data": {
      "text/html": [
       "<div>\n",
       "<style scoped>\n",
       "    .dataframe tbody tr th:only-of-type {\n",
       "        vertical-align: middle;\n",
       "    }\n",
       "\n",
       "    .dataframe tbody tr th {\n",
       "        vertical-align: top;\n",
       "    }\n",
       "\n",
       "    .dataframe thead th {\n",
       "        text-align: right;\n",
       "    }\n",
       "</style>\n",
       "<table border=\"1\" class=\"dataframe\">\n",
       "  <thead>\n",
       "    <tr style=\"text-align: right;\">\n",
       "      <th></th>\n",
       "      <th>Salary</th>\n",
       "      <th>Age</th>\n",
       "      <th>Seniority</th>\n",
       "    </tr>\n",
       "  </thead>\n",
       "  <tbody>\n",
       "    <tr>\n",
       "      <th>Atil</th>\n",
       "      <td>0.300482</td>\n",
       "      <td>0.161475</td>\n",
       "      <td>0.188583</td>\n",
       "    </tr>\n",
       "    <tr>\n",
       "      <th>Zeynep</th>\n",
       "      <td>-0.336789</td>\n",
       "      <td>0.043255</td>\n",
       "      <td>0.913409</td>\n",
       "    </tr>\n",
       "    <tr>\n",
       "      <th>Atlas</th>\n",
       "      <td>0.275015</td>\n",
       "      <td>1.649876</td>\n",
       "      <td>-0.301965</td>\n",
       "    </tr>\n",
       "    <tr>\n",
       "      <th>Mehmet</th>\n",
       "      <td>0.474020</td>\n",
       "      <td>-1.336595</td>\n",
       "      <td>1.794104</td>\n",
       "    </tr>\n",
       "  </tbody>\n",
       "</table>\n",
       "</div>"
      ],
      "text/plain": [
       "          Salary       Age  Seniority\n",
       "Atil    0.300482  0.161475   0.188583\n",
       "Zeynep -0.336789  0.043255   0.913409\n",
       "Atlas   0.275015  1.649876  -0.301965\n",
       "Mehmet  0.474020 -1.336595   1.794104"
      ]
     },
     "execution_count": 38,
     "metadata": {},
     "output_type": "execute_result"
    }
   ],
   "source": [
    "new_df"
   ]
  },
  {
   "cell_type": "code",
   "execution_count": 39,
   "id": "2b3bbb0e-8717-44a8-b46b-21e993d496a2",
   "metadata": {},
   "outputs": [
    {
     "data": {
      "text/html": [
       "<div>\n",
       "<style scoped>\n",
       "    .dataframe tbody tr th:only-of-type {\n",
       "        vertical-align: middle;\n",
       "    }\n",
       "\n",
       "    .dataframe tbody tr th {\n",
       "        vertical-align: top;\n",
       "    }\n",
       "\n",
       "    .dataframe thead th {\n",
       "        text-align: right;\n",
       "    }\n",
       "</style>\n",
       "<table border=\"1\" class=\"dataframe\">\n",
       "  <thead>\n",
       "    <tr style=\"text-align: right;\">\n",
       "      <th></th>\n",
       "      <th>index</th>\n",
       "      <th>Salary</th>\n",
       "      <th>Age</th>\n",
       "      <th>Seniority</th>\n",
       "    </tr>\n",
       "  </thead>\n",
       "  <tbody>\n",
       "    <tr>\n",
       "      <th>0</th>\n",
       "      <td>Atil</td>\n",
       "      <td>0.300482</td>\n",
       "      <td>0.161475</td>\n",
       "      <td>0.188583</td>\n",
       "    </tr>\n",
       "    <tr>\n",
       "      <th>1</th>\n",
       "      <td>Zeynep</td>\n",
       "      <td>-0.336789</td>\n",
       "      <td>0.043255</td>\n",
       "      <td>0.913409</td>\n",
       "    </tr>\n",
       "    <tr>\n",
       "      <th>2</th>\n",
       "      <td>Atlas</td>\n",
       "      <td>0.275015</td>\n",
       "      <td>1.649876</td>\n",
       "      <td>-0.301965</td>\n",
       "    </tr>\n",
       "    <tr>\n",
       "      <th>3</th>\n",
       "      <td>Mehmet</td>\n",
       "      <td>0.474020</td>\n",
       "      <td>-1.336595</td>\n",
       "      <td>1.794104</td>\n",
       "    </tr>\n",
       "  </tbody>\n",
       "</table>\n",
       "</div>"
      ],
      "text/plain": [
       "    index    Salary       Age  Seniority\n",
       "0    Atil  0.300482  0.161475   0.188583\n",
       "1  Zeynep -0.336789  0.043255   0.913409\n",
       "2   Atlas  0.275015  1.649876  -0.301965\n",
       "3  Mehmet  0.474020 -1.336595   1.794104"
      ]
     },
     "execution_count": 39,
     "metadata": {},
     "output_type": "execute_result"
    }
   ],
   "source": [
    "new_df.reset_index()"
   ]
  },
  {
   "cell_type": "code",
   "execution_count": 40,
   "id": "8b5f12e7-0126-43bc-9709-64b62f5eea30",
   "metadata": {},
   "outputs": [],
   "source": [
    "new_indices = [\"Ati\", \"Zey\", \"Atl\", \"Meh\"]"
   ]
  },
  {
   "cell_type": "code",
   "execution_count": 41,
   "id": "0ade90f3-bfeb-41ca-8ca6-c96f45bf7f4e",
   "metadata": {},
   "outputs": [],
   "source": [
    "new_df[\"NewIndex\"] = new_indices"
   ]
  },
  {
   "cell_type": "code",
   "execution_count": 42,
   "id": "2ff6fc16-2eb2-4a1a-8a67-203f46701015",
   "metadata": {},
   "outputs": [
    {
     "data": {
      "text/html": [
       "<div>\n",
       "<style scoped>\n",
       "    .dataframe tbody tr th:only-of-type {\n",
       "        vertical-align: middle;\n",
       "    }\n",
       "\n",
       "    .dataframe tbody tr th {\n",
       "        vertical-align: top;\n",
       "    }\n",
       "\n",
       "    .dataframe thead th {\n",
       "        text-align: right;\n",
       "    }\n",
       "</style>\n",
       "<table border=\"1\" class=\"dataframe\">\n",
       "  <thead>\n",
       "    <tr style=\"text-align: right;\">\n",
       "      <th></th>\n",
       "      <th>Salary</th>\n",
       "      <th>Age</th>\n",
       "      <th>Seniority</th>\n",
       "      <th>NewIndex</th>\n",
       "    </tr>\n",
       "  </thead>\n",
       "  <tbody>\n",
       "    <tr>\n",
       "      <th>Atil</th>\n",
       "      <td>0.300482</td>\n",
       "      <td>0.161475</td>\n",
       "      <td>0.188583</td>\n",
       "      <td>Ati</td>\n",
       "    </tr>\n",
       "    <tr>\n",
       "      <th>Zeynep</th>\n",
       "      <td>-0.336789</td>\n",
       "      <td>0.043255</td>\n",
       "      <td>0.913409</td>\n",
       "      <td>Zey</td>\n",
       "    </tr>\n",
       "    <tr>\n",
       "      <th>Atlas</th>\n",
       "      <td>0.275015</td>\n",
       "      <td>1.649876</td>\n",
       "      <td>-0.301965</td>\n",
       "      <td>Atl</td>\n",
       "    </tr>\n",
       "    <tr>\n",
       "      <th>Mehmet</th>\n",
       "      <td>0.474020</td>\n",
       "      <td>-1.336595</td>\n",
       "      <td>1.794104</td>\n",
       "      <td>Meh</td>\n",
       "    </tr>\n",
       "  </tbody>\n",
       "</table>\n",
       "</div>"
      ],
      "text/plain": [
       "          Salary       Age  Seniority NewIndex\n",
       "Atil    0.300482  0.161475   0.188583      Ati\n",
       "Zeynep -0.336789  0.043255   0.913409      Zey\n",
       "Atlas   0.275015  1.649876  -0.301965      Atl\n",
       "Mehmet  0.474020 -1.336595   1.794104      Meh"
      ]
     },
     "execution_count": 42,
     "metadata": {},
     "output_type": "execute_result"
    }
   ],
   "source": [
    "new_df"
   ]
  },
  {
   "cell_type": "code",
   "execution_count": 43,
   "id": "96a3578d-2f19-4bf5-ae93-2f8941783bc0",
   "metadata": {},
   "outputs": [],
   "source": [
    "new_df.set_index(\"NewIndex\", inplace=True)"
   ]
  },
  {
   "cell_type": "code",
   "execution_count": 44,
   "id": "09bc1e88-a21e-4081-854f-19f8fae6a6c2",
   "metadata": {},
   "outputs": [
    {
     "data": {
      "text/html": [
       "<div>\n",
       "<style scoped>\n",
       "    .dataframe tbody tr th:only-of-type {\n",
       "        vertical-align: middle;\n",
       "    }\n",
       "\n",
       "    .dataframe tbody tr th {\n",
       "        vertical-align: top;\n",
       "    }\n",
       "\n",
       "    .dataframe thead th {\n",
       "        text-align: right;\n",
       "    }\n",
       "</style>\n",
       "<table border=\"1\" class=\"dataframe\">\n",
       "  <thead>\n",
       "    <tr style=\"text-align: right;\">\n",
       "      <th></th>\n",
       "      <th>Salary</th>\n",
       "      <th>Age</th>\n",
       "      <th>Seniority</th>\n",
       "    </tr>\n",
       "    <tr>\n",
       "      <th>NewIndex</th>\n",
       "      <th></th>\n",
       "      <th></th>\n",
       "      <th></th>\n",
       "    </tr>\n",
       "  </thead>\n",
       "  <tbody>\n",
       "    <tr>\n",
       "      <th>Ati</th>\n",
       "      <td>0.300482</td>\n",
       "      <td>0.161475</td>\n",
       "      <td>0.188583</td>\n",
       "    </tr>\n",
       "    <tr>\n",
       "      <th>Zey</th>\n",
       "      <td>-0.336789</td>\n",
       "      <td>0.043255</td>\n",
       "      <td>0.913409</td>\n",
       "    </tr>\n",
       "    <tr>\n",
       "      <th>Atl</th>\n",
       "      <td>0.275015</td>\n",
       "      <td>1.649876</td>\n",
       "      <td>-0.301965</td>\n",
       "    </tr>\n",
       "    <tr>\n",
       "      <th>Meh</th>\n",
       "      <td>0.474020</td>\n",
       "      <td>-1.336595</td>\n",
       "      <td>1.794104</td>\n",
       "    </tr>\n",
       "  </tbody>\n",
       "</table>\n",
       "</div>"
      ],
      "text/plain": [
       "            Salary       Age  Seniority\n",
       "NewIndex                               \n",
       "Ati       0.300482  0.161475   0.188583\n",
       "Zey      -0.336789  0.043255   0.913409\n",
       "Atl       0.275015  1.649876  -0.301965\n",
       "Meh       0.474020 -1.336595   1.794104"
      ]
     },
     "execution_count": 44,
     "metadata": {},
     "output_type": "execute_result"
    }
   ],
   "source": [
    "new_df"
   ]
  },
  {
   "cell_type": "code",
   "execution_count": 45,
   "id": "9aca0264-b96d-4a03-9d64-2da407d8f9ef",
   "metadata": {},
   "outputs": [
    {
     "data": {
      "text/plain": [
       "Salary       0.300482\n",
       "Age          0.161475\n",
       "Seniority    0.188583\n",
       "Name: Ati, dtype: float64"
      ]
     },
     "execution_count": 45,
     "metadata": {},
     "output_type": "execute_result"
    }
   ],
   "source": [
    "new_df.loc[\"Ati\"]"
   ]
  },
  {
   "cell_type": "code",
   "execution_count": 46,
   "id": "384455e4-9156-43f8-8e72-a210ec07d396",
   "metadata": {},
   "outputs": [],
   "source": [
    "# multi index"
   ]
  },
  {
   "cell_type": "code",
   "execution_count": 47,
   "id": "23e87726-c40a-4263-8f20-7836628f1fc8",
   "metadata": {},
   "outputs": [],
   "source": [
    "first_index = [\"Simpson\",\"Simpson\",\"Simpson\",\"South Park\", \"South Park\", \"South Park\"]"
   ]
  },
  {
   "cell_type": "code",
   "execution_count": 48,
   "id": "ec9fa9ee-d22d-4913-bce2-0888a616d32d",
   "metadata": {},
   "outputs": [],
   "source": [
    "inner_index = [\"Homer\",\"Bart\",\"Marge\",\"Cartman\",\"Kenny\",\"Kyle\"]"
   ]
  },
  {
   "cell_type": "code",
   "execution_count": 49,
   "id": "f781774e-8bc9-4a88-a953-2ee69e25c719",
   "metadata": {},
   "outputs": [],
   "source": [
    "zipped_index = list(zip(first_index, inner_index))"
   ]
  },
  {
   "cell_type": "code",
   "execution_count": 50,
   "id": "c01bede1-f541-4816-b50b-971c8a12ae0a",
   "metadata": {},
   "outputs": [
    {
     "data": {
      "text/plain": [
       "[('Simpson', 'Homer'),\n",
       " ('Simpson', 'Bart'),\n",
       " ('Simpson', 'Marge'),\n",
       " ('South Park', 'Cartman'),\n",
       " ('South Park', 'Kenny'),\n",
       " ('South Park', 'Kyle')]"
      ]
     },
     "execution_count": 50,
     "metadata": {},
     "output_type": "execute_result"
    }
   ],
   "source": [
    "zipped_index"
   ]
  },
  {
   "cell_type": "code",
   "execution_count": 51,
   "id": "ac824a0b-2faf-467e-8fcb-6ed8e522635b",
   "metadata": {},
   "outputs": [],
   "source": [
    "zipped_index = pd.MultiIndex.from_tuples(zipped_index)"
   ]
  },
  {
   "cell_type": "code",
   "execution_count": 52,
   "id": "a84c1a99-7e64-4ac2-9db9-49be3321e8d8",
   "metadata": {},
   "outputs": [
    {
     "data": {
      "text/plain": [
       "MultiIndex([(   'Simpson',   'Homer'),\n",
       "            (   'Simpson',    'Bart'),\n",
       "            (   'Simpson',   'Marge'),\n",
       "            ('South Park', 'Cartman'),\n",
       "            ('South Park',   'Kenny'),\n",
       "            ('South Park',    'Kyle')],\n",
       "           )"
      ]
     },
     "execution_count": 52,
     "metadata": {},
     "output_type": "execute_result"
    }
   ],
   "source": [
    "zipped_index"
   ]
  },
  {
   "cell_type": "code",
   "execution_count": 56,
   "id": "d1427639-c668-4150-9ab0-edb50616a1d4",
   "metadata": {},
   "outputs": [],
   "source": [
    "sample_values = np.ones((6,2))"
   ]
  },
  {
   "cell_type": "code",
   "execution_count": 57,
   "id": "5e4c3616-87cf-4e08-9179-e2c22c3ae662",
   "metadata": {},
   "outputs": [
    {
     "data": {
      "text/plain": [
       "array([[1., 1.],\n",
       "       [1., 1.],\n",
       "       [1., 1.],\n",
       "       [1., 1.],\n",
       "       [1., 1.],\n",
       "       [1., 1.]])"
      ]
     },
     "execution_count": 57,
     "metadata": {},
     "output_type": "execute_result"
    }
   ],
   "source": [
    "sample_values"
   ]
  },
  {
   "cell_type": "code",
   "execution_count": 58,
   "id": "02a010e2-fa34-45b0-93b4-e1adddd6cc7c",
   "metadata": {},
   "outputs": [],
   "source": [
    "big_df = pd.DataFrame(sample_values, index=zipped_index, columns=[\"Age\", \"Salary\"])"
   ]
  },
  {
   "cell_type": "code",
   "execution_count": 59,
   "id": "60c50439-55a0-4dab-9d6d-654e87136103",
   "metadata": {},
   "outputs": [
    {
     "data": {
      "text/html": [
       "<div>\n",
       "<style scoped>\n",
       "    .dataframe tbody tr th:only-of-type {\n",
       "        vertical-align: middle;\n",
       "    }\n",
       "\n",
       "    .dataframe tbody tr th {\n",
       "        vertical-align: top;\n",
       "    }\n",
       "\n",
       "    .dataframe thead th {\n",
       "        text-align: right;\n",
       "    }\n",
       "</style>\n",
       "<table border=\"1\" class=\"dataframe\">\n",
       "  <thead>\n",
       "    <tr style=\"text-align: right;\">\n",
       "      <th></th>\n",
       "      <th></th>\n",
       "      <th>Age</th>\n",
       "      <th>Salary</th>\n",
       "    </tr>\n",
       "  </thead>\n",
       "  <tbody>\n",
       "    <tr>\n",
       "      <th rowspan=\"3\" valign=\"top\">Simpson</th>\n",
       "      <th>Homer</th>\n",
       "      <td>1.0</td>\n",
       "      <td>1.0</td>\n",
       "    </tr>\n",
       "    <tr>\n",
       "      <th>Bart</th>\n",
       "      <td>1.0</td>\n",
       "      <td>1.0</td>\n",
       "    </tr>\n",
       "    <tr>\n",
       "      <th>Marge</th>\n",
       "      <td>1.0</td>\n",
       "      <td>1.0</td>\n",
       "    </tr>\n",
       "    <tr>\n",
       "      <th rowspan=\"3\" valign=\"top\">South Park</th>\n",
       "      <th>Cartman</th>\n",
       "      <td>1.0</td>\n",
       "      <td>1.0</td>\n",
       "    </tr>\n",
       "    <tr>\n",
       "      <th>Kenny</th>\n",
       "      <td>1.0</td>\n",
       "      <td>1.0</td>\n",
       "    </tr>\n",
       "    <tr>\n",
       "      <th>Kyle</th>\n",
       "      <td>1.0</td>\n",
       "      <td>1.0</td>\n",
       "    </tr>\n",
       "  </tbody>\n",
       "</table>\n",
       "</div>"
      ],
      "text/plain": [
       "                    Age  Salary\n",
       "Simpson    Homer    1.0     1.0\n",
       "           Bart     1.0     1.0\n",
       "           Marge    1.0     1.0\n",
       "South Park Cartman  1.0     1.0\n",
       "           Kenny    1.0     1.0\n",
       "           Kyle     1.0     1.0"
      ]
     },
     "execution_count": 59,
     "metadata": {},
     "output_type": "execute_result"
    }
   ],
   "source": [
    "big_df"
   ]
  },
  {
   "cell_type": "code",
   "execution_count": 60,
   "id": "2e77bb05-1fb1-4fef-9616-1ec198d36b87",
   "metadata": {},
   "outputs": [
    {
     "data": {
      "text/plain": [
       "Simpson     Homer      1.0\n",
       "            Bart       1.0\n",
       "            Marge      1.0\n",
       "South Park  Cartman    1.0\n",
       "            Kenny      1.0\n",
       "            Kyle       1.0\n",
       "Name: Age, dtype: float64"
      ]
     },
     "execution_count": 60,
     "metadata": {},
     "output_type": "execute_result"
    }
   ],
   "source": [
    "big_df[\"Age\"]"
   ]
  },
  {
   "cell_type": "code",
   "execution_count": 61,
   "id": "fa95107f-89fb-4818-b95f-29a213129d53",
   "metadata": {},
   "outputs": [
    {
     "data": {
      "text/html": [
       "<div>\n",
       "<style scoped>\n",
       "    .dataframe tbody tr th:only-of-type {\n",
       "        vertical-align: middle;\n",
       "    }\n",
       "\n",
       "    .dataframe tbody tr th {\n",
       "        vertical-align: top;\n",
       "    }\n",
       "\n",
       "    .dataframe thead th {\n",
       "        text-align: right;\n",
       "    }\n",
       "</style>\n",
       "<table border=\"1\" class=\"dataframe\">\n",
       "  <thead>\n",
       "    <tr style=\"text-align: right;\">\n",
       "      <th></th>\n",
       "      <th>Age</th>\n",
       "      <th>Salary</th>\n",
       "    </tr>\n",
       "  </thead>\n",
       "  <tbody>\n",
       "    <tr>\n",
       "      <th>Homer</th>\n",
       "      <td>1.0</td>\n",
       "      <td>1.0</td>\n",
       "    </tr>\n",
       "    <tr>\n",
       "      <th>Bart</th>\n",
       "      <td>1.0</td>\n",
       "      <td>1.0</td>\n",
       "    </tr>\n",
       "    <tr>\n",
       "      <th>Marge</th>\n",
       "      <td>1.0</td>\n",
       "      <td>1.0</td>\n",
       "    </tr>\n",
       "  </tbody>\n",
       "</table>\n",
       "</div>"
      ],
      "text/plain": [
       "       Age  Salary\n",
       "Homer  1.0     1.0\n",
       "Bart   1.0     1.0\n",
       "Marge  1.0     1.0"
      ]
     },
     "execution_count": 61,
     "metadata": {},
     "output_type": "execute_result"
    }
   ],
   "source": [
    "big_df.loc[\"Simpson\"]"
   ]
  },
  {
   "cell_type": "code",
   "execution_count": 62,
   "id": "5790bcf7-d6be-47bf-8cb3-1c249e70fce6",
   "metadata": {},
   "outputs": [
    {
     "data": {
      "text/plain": [
       "Age       1.0\n",
       "Salary    1.0\n",
       "Name: Homer, dtype: float64"
      ]
     },
     "execution_count": 62,
     "metadata": {},
     "output_type": "execute_result"
    }
   ],
   "source": [
    "big_df.loc[\"Simpson\"].loc[\"Homer\"]"
   ]
  },
  {
   "cell_type": "code",
   "execution_count": null,
   "id": "258bdd5c-a051-4fae-bcde-e4a0d7ebc18c",
   "metadata": {},
   "outputs": [],
   "source": []
  }
 ],
 "metadata": {
  "kernelspec": {
   "display_name": "Python 3 (ipykernel)",
   "language": "python",
   "name": "python3"
  },
  "language_info": {
   "codemirror_mode": {
    "name": "ipython",
    "version": 3
   },
   "file_extension": ".py",
   "mimetype": "text/x-python",
   "name": "python",
   "nbconvert_exporter": "python",
   "pygments_lexer": "ipython3",
   "version": "3.12.7"
  }
 },
 "nbformat": 4,
 "nbformat_minor": 5
}
